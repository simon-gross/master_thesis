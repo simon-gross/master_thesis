{
 "cells": [
  {
   "cell_type": "markdown",
   "id": "352b5c45-04eb-49e2-8cb6-a1e782f23bfe",
   "metadata": {},
   "source": [
    "# Define the ontology\n",
    "The model for the knowledge graph is a combination between these three ontologies:\n",
    "- nutsdef: The model for the nuts regions as defined by [Eurostat](https://op.europa.eu/en/web/eu-vocabularies/dataset/-/resource?uri=http://publications.europa.eu/resource/dataset/nuts)\n",
    "- geo: The ontology for geographic information - GeoSPARQL, defined by the [OGC](https://www.ogc.org/standard/geosparql/). This is especially important to leverage the geographic functionalities of GraphDB\n",
    "- geonames: The ontology for geographic entities defined by [Geonames](https://www.geonames.org/ontology/documentation.html)\n",
    "\n",
    "Not every class and relation is actually used in our KG."
   ]
  },
  {
   "cell_type": "markdown",
   "id": "f281e9ff-727b-4c4c-8e31-20051527bb28",
   "metadata": {},
   "source": [
    "# 1. nutsdef:\n",
    "<img src=\"pics/original_ontology.png\" alt=\"create_repo\" width=\"800\"/>"
   ]
  },
  {
   "cell_type": "markdown",
   "id": "8bfcb946-2fce-4c4d-b9fc-b916cd4efc9f",
   "metadata": {},
   "source": [
    "In the notebook gather_data_and_set_up_geosparql the the data using this scheme is loaded. The eli: class is not part of the dataset."
   ]
  },
  {
   "cell_type": "markdown",
   "id": "d4518b99-484f-4fbd-abf1-0d43b0f38190",
   "metadata": {},
   "source": [
    "# 2. geo:\n",
    "<img src=\"pics/geo_ontology.jpg\" alt=\"create_repo\" height=\"1000\"/>"
   ]
  },
  {
   "cell_type": "markdown",
   "id": "81edb704-5412-445e-9f02-4b1d82c82180",
   "metadata": {},
   "source": [
    "The GeoSPARQL ontology give the necesarry setup to perform geospatial reasoning in the database. It is integrated in GraphDB."
   ]
  },
  {
   "cell_type": "markdown",
   "id": "e162b826-6743-498f-a81d-a47a00f3d360",
   "metadata": {},
   "source": [
    "The GeoSPARQL is a more complex model. However, for it to work with GraphDB we only need a specific subset of the model. It is provided [by the GraphDB documentation](https://graphdb.ontotext.com/documentation/10.1/geosparql-support.html).\\\n",
    "<img src=\"pics/geosparql-ontology.png\" alt=\"create_repo\" width=\"800\"/>"
   ]
  },
  {
   "cell_type": "markdown",
   "id": "8465b4bf-33d2-4eeb-9355-63b4b9ca3c55",
   "metadata": {},
   "source": [
    "# 3. geofunctions\n",
    "The <http://www.opengis.net/def/function/geosparql/> namespace defines functions that are also integrated within GraphDB. Since it would be unfeasable to have every spatial relation between every spatial `geo:Feature` we will instead rely on these functions. In order for the LLM to efficiently use them we need to define them in our Ontology"
   ]
  },
  {
   "cell_type": "markdown",
   "id": "848d4d6c-50f3-44f7-85c4-aa16d80cf9ff",
   "metadata": {},
   "source": [
    "# 4. geonames:\n",
    "<img src=\"pics/gn_ontology.jpg\" alt=\"create_repo\" width=\"800\"/>"
   ]
  },
  {
   "cell_type": "markdown",
   "id": "f126f0f3-8db5-4b79-b366-38f4ffa2ab34",
   "metadata": {},
   "source": [
    "The geonames ontology defines semantics for named geographic entities. This can be rivers, mountains, cities, places, POIs, etc.\\\n",
    "This is also a complex model. Also here we will only use a certain subset of classes."
   ]
  },
  {
   "cell_type": "markdown",
   "id": "8f70c996-692c-43fe-a414-4ef06ca19b53",
   "metadata": {},
   "source": [
    "# The GeoNUTS Ontology\n",
    "The final ontology features a combination of the above four ontologies but only a small subset of their classes and properties. The final Ontology needs to be as lightweight and slim as possible in oder for the LLM to understand the crucial parts of query generation.\\\n",
    "<img src=\"pics/ontology.png\" alt=\"create_repo\" width=\"800\"/>"
   ]
  },
  {
   "cell_type": "code",
   "execution_count": 11,
   "id": "6b04f926-4656-43fd-8dee-71123fc21bba",
   "metadata": {},
   "outputs": [
    {
     "data": {
      "text/plain": [
       "<Graph identifier=N5f2a317ab97147d7b8f4c85c3b7ca4b4 (<class 'rdflib.graph.Graph'>)>"
      ]
     },
     "execution_count": 11,
     "metadata": {},
     "output_type": "execute_result"
    }
   ],
   "source": [
    "import rdflib\n",
    "from rdflib.namespace import RDF, OWL\n",
    "from rdflib import Graph, URIRef, Literal\n",
    "import io\n",
    "import pydotplus\n",
    "from IPython.display import display, Image\n",
    "from rdflib.tools.rdf2dot import rdf2dot\n",
    "\n",
    "ontology = Graph()\n",
    "ontology.parse(\"ontology//geonuts.ttl\", format=\"turtle\")"
   ]
  },
  {
   "cell_type": "markdown",
   "id": "c23b4818-d2ae-4c34-a598-f28f04b43c12",
   "metadata": {},
   "source": [
    "# using geonuts 9\n",
    "Changes:\n",
    "- removed dcterms identifier\n",
    "- removed equivalent classes for gn:Feature == geo:Feature (too many issues)\n",
    "- Therefore added: geo:hasGeometry domain gn:Feature\n",
    "- removed nutsdef:scale\n",
    "- removed nutsdef:projection\n",
    "- removed xsd:date\n",
    "- removed countrycode\n",
    "- Added quotations for permissable values for nuts level"
   ]
  },
  {
   "cell_type": "code",
   "execution_count": 13,
   "id": "cfa4b3cb-8661-44f4-af9a-bccd015b21f1",
   "metadata": {},
   "outputs": [],
   "source": [
    "from functions.sparql_requests import sparql_select, sparql_update\n",
    "graphdb_server_url = 'http://localhost:7200'\n",
    "repository_id = 'geonuts'\n",
    "select_endpoint_url = f\"http://localhost:7200/repositories/{repository_id}\"\n",
    "update_endpoint_url = f\"http://localhost:7200/repositories/{repository_id}/statements\""
   ]
  },
  {
   "attachments": {},
   "cell_type": "markdown",
   "id": "34325e29-4abb-4572-acc6-b825949e49a4",
   "metadata": {},
   "source": [
    "# Add functions to ontology\n",
    "The functions_original.ttl file provided by [the OGC](https://github.com/opengeospatial/ogc-geosparql/tree/master/vocabularies) is used. The functions are defined using the namespace `fno:`'s `fno:Function` class. A `rdf:type fno:Function` object looks like this:"
   ]
  },
  {
   "cell_type": "code",
   "execution_count": 15,
   "id": "f5632def-b0af-425e-8f29-a3ffd863d0b9",
   "metadata": {},
   "outputs": [
    {
     "name": "stdout",
     "output_type": "stream",
     "text": [
      "@prefix dcterms: <http://purl.org/dc/terms/> .\n",
      "@prefix fno: <https://w3id.org/function/ontology#> .\n",
      "@prefix geof: <http://www.opengis.net/def/function/geosparql/> .\n",
      "@prefix ns1: <http://www.opengis.net/def/metamodel/ogc-na/> .\n",
      "@prefix rdfs: <http://www.w3.org/2000/01/rdf-schema#> .\n",
      "@prefix skos: <http://www.w3.org/2004/02/skos/core#> .\n",
      "\n",
      "geof:buffer a skos:Concept,\n",
      "        <http://www.w3.org/ns/sparql-service-description#Function>,\n",
      "        fno:Function ;\n",
      "    dcterms:source <http://www.opengis.net/doc/geosparql/1.1> ;\n",
      "    ns1:status <http://www.opengis.net/def/status/valid> ;\n",
      "    rdfs:isDefinedBy <http://www.opengis.net/spec/geosparql/1.1/req/geometry-extension/query-functions> ;\n",
      "    rdfs:seeAlso <http://www.opengis.net/doc/geosparql/1.1> ;\n",
      "    skos:definition \"A query function that returns a buffer around the input geometry.\"@en ;\n",
      "    skos:inScheme <http://www.opengis.net/def/function/geosparql> ;\n",
      "    skos:prefLabel \"buffer\"@en ;\n",
      "    fno:expects [ ] ;\n",
      "    fno:returns [ ] .\n",
      "\n",
      "\n",
      "\n",
      "(process:24320): Pango-WARNING **: 14:34:04.439: couldn't load font \"DejaVu Sans Bold Not-Rotated 14\", falling back to \"Sans Bold Not-Rotated 14\", expect ugly output.\n",
      "\n",
      "(process:24320): Pango-WARNING **: 14:34:04.481: couldn't load font \"DejaVu Sans Not-Rotated 10\", falling back to \"Sans Not-Rotated 10\", expect ugly output.\n",
      "\n",
      "(process:24320): Pango-WARNING **: 14:34:04.486: couldn't load font \"DejaVu Sans Not-Rotated 14\", falling back to \"Sans Not-Rotated 14\", expect ugly output.\n",
      "\n"
     ]
    },
    {
     "data": {
      "image/png": "[encoded data removed]",
      "text/plain": [
       "<IPython.core.display.Image object>"
      ]
     },
     "metadata": {},
     "output_type": "display_data"
    }
   ],
   "source": [
    "functions = Graph()\n",
    "functions.parse(\"ontology/functions_original.ttl\")\n",
    "\n",
    "subject_uri = URIRef(\"http://www.opengis.net/def/function/geosparql/buffer\")\n",
    "\n",
    "filtered_graph = Graph()\n",
    "for s, p, o in functions.triples((subject_uri, None, None)):\n",
    "    filtered_graph.add((s, p, o))\n",
    "\n",
    "filtered_graph.bind(\"fno\", \"https://w3id.org/function/ontology#\")\n",
    "filtered_graph.bind(\"geof\", \"http://www.opengis.net/def/function/geosparql/\")\n",
    "\n",
    "print(filtered_graph.serialize(format=\"turtle\"))\n",
    "def visualize(g):\n",
    "    stream = io.StringIO()\n",
    "    rdf2dot(g, stream, opts = {display})\n",
    "    dg = pydotplus.graph_from_dot_data(stream.getvalue())\n",
    "    png = dg.create_png()\n",
    "    display(Image(png))\n",
    "\n",
    "visualize(filtered_graph)"
   ]
  },
  {
   "cell_type": "markdown",
   "id": "d0dc544e-d95a-4d70-bd2c-b24591575e3a",
   "metadata": {},
   "source": [
    "The function still has lots of relations that will not be needed by the LLM to understand the function. Important relations are `rdf:type`, `skos:definition`, `skos:prefLabel`, `fno:expects` and `fno:returns`. Only these should be kept."
   ]
  },
  {
   "cell_type": "code",
   "execution_count": 17,
   "id": "b700def8-b815-4610-8241-8759f76c209c",
   "metadata": {},
   "outputs": [
    {
     "name": "stdout",
     "output_type": "stream",
     "text": [
      "@prefix fno: <https://w3id.org/function/ontology#> .\n",
      "@prefix skos: <http://www.w3.org/2004/02/skos/core#> .\n",
      "\n",
      "<http://www.opengis.net/def/function/geosparql/buffer> a skos:Concept,\n",
      "        <http://www.w3.org/ns/sparql-service-description#Function>,\n",
      "        fno:Function ;\n",
      "    skos:definition \"A query function that returns a buffer around the input geometry.\"@en ;\n",
      "    skos:prefLabel \"buffer\"@en ;\n",
      "    fno:expects [ ] ;\n",
      "    fno:returns [ ] .\n",
      "\n",
      "\n"
     ]
    }
   ],
   "source": [
    "filtered_graph = Graph()\n",
    "filtered_graph.bind(\"fno\", \"https://w3id.org/function/ontology#\")\n",
    "\n",
    "\n",
    "allowed_relations = [\n",
    "    \"http://www.w3.org/1999/02/22-rdf-syntax-ns#type\",\n",
    "    \"http://www.w3.org/2004/02/skos/core#definition\",\n",
    "    \"http://www.w3.org/2004/02/skos/core#prefLabel\",\n",
    "    \"https://w3id.org/function/ontology#expects\",\n",
    "    \"https://w3id.org/function/ontology#returns\"\n",
    "]\n",
    "\n",
    "geof = \"http://www.opengis.net/def/function/geosparql/\"\n",
    "fnames = [\"buffer\", \"sfContains\", \"sfCrosses\", \"sfDisjoint\", \"sfEquals\", \"sfIntersects\",\\\n",
    "          \"sfOverlaps\", \"sfTouches\", \"sfWithin\", \"distance\", \"envelope\"]\n",
    "\n",
    "allowed_subjects = [geof+f for f in fnames]\n",
    "\n",
    "\n",
    "for s, p, o in functions.triples((None, None, None)):\n",
    "    if str(p) in allowed_relations and str(s) in allowed_subjects[:1]:\n",
    "        filtered_graph.add((s, p, o))\n",
    "\n",
    "\n",
    "print(filtered_graph.serialize(format=\"ttl\"))"
   ]
  },
  {
   "cell_type": "markdown",
   "id": "e828e8c9-a578-4387-abf3-4ff70bc3efaf",
   "metadata": {},
   "source": [
    "# Handling blank nodes\n",
    "When accessing the original graph, the blank-nodes can be made visible by accessing the list:"
   ]
  },
  {
   "cell_type": "code",
   "execution_count": 19,
   "id": "efc4fb44-7573-45b9-b232-be6a0622becc",
   "metadata": {},
   "outputs": [
    {
     "name": "stdout",
     "output_type": "stream",
     "text": [
      "Items in the RDF list:\n",
      "http://www.opengis.net/def/function/geosparql/buffer_param1\n",
      "http://www.opengis.net/def/function/geosparql/buffer_param2\n",
      "http://www.opengis.net/def/function/geosparql/buffer_param3\n"
     ]
    }
   ],
   "source": [
    "query = \"\"\"\n",
    "PREFIX geof: <http://www.opengis.net/def/function/geosparql/>\n",
    "PREFIX fno: <https://w3id.org/function/ontology#>\n",
    "PREFIX rdf: <http://www.w3.org/1999/02/22-rdf-syntax-ns#>\n",
    "\n",
    "SELECT ?item WHERE {\n",
    "  geof:buffer fno:expects/rdf:rest*/rdf:first ?item .\n",
    "}\n",
    "\"\"\"\n",
    "\n",
    "# Execute the query\n",
    "results = functions.query(query)\n",
    "\n",
    "# Print out the items\n",
    "print(\"Items in the RDF list:\")\n",
    "for row in results:\n",
    "    print(row[\"item\"])\n"
   ]
  },
  {
   "cell_type": "markdown",
   "id": "52d9f87c-0600-47f5-b8a5-6527b0e6a00f",
   "metadata": {},
   "source": [
    "However, when serializing the graph again, this information is lost. Furthermore the LLM will probably have trouble connecting the parameters with correct function. The following workaround will be used: Instead of creating a whole node for each parameter the object for `geof:buffer fno:expects ?object` will just be a literal containing the datatypes for each input/output as a string."
   ]
  },
  {
   "cell_type": "code",
   "execution_count": 21,
   "id": "6e86cf5b-b6ec-42a2-927d-5da42c34e623",
   "metadata": {},
   "outputs": [],
   "source": [
    "for s, p, o in filtered_graph.triples((None, None, None)):\n",
    "    if str(p) in [\"https://w3id.org/function/ontology#expects\", \"https://w3id.org/function/ontology#returns\"]:\n",
    "        filtered_graph.remove((s, p, o))\n",
    "\n",
    "_ = filtered_graph.add((URIRef(geof+\"buffer\"), URIRef(\"https://w3id.org/function/ontology#expects\"), Literal(\"(geo:wktLiteral, xsd:double)\")))"
   ]
  },
  {
   "cell_type": "code",
   "execution_count": 22,
   "id": "563d801e-d997-42c4-be3b-cc9c17219f6d",
   "metadata": {},
   "outputs": [
    {
     "name": "stdout",
     "output_type": "stream",
     "text": [
      "@prefix fno: <https://w3id.org/function/ontology#> .\n",
      "@prefix skos: <http://www.w3.org/2004/02/skos/core#> .\n",
      "\n",
      "<http://www.opengis.net/def/function/geosparql/buffer> a skos:Concept,\n",
      "        <http://www.w3.org/ns/sparql-service-description#Function>,\n",
      "        fno:Function ;\n",
      "    skos:definition \"A query function that returns a buffer around the input geometry.\"@en ;\n",
      "    skos:prefLabel \"buffer\"@en ;\n",
      "    fno:expects \"(geo:wktLiteral, xsd:double)\" .\n",
      "\n",
      "\n"
     ]
    }
   ],
   "source": [
    "print(filtered_graph.serialize(format=\"ttl\"))"
   ]
  },
  {
   "cell_type": "markdown",
   "id": "9a4edc66-9554-4026-a881-2d5c472ba4a8",
   "metadata": {},
   "source": [
    "## For all Functions\n",
    "Load all the functions needed for the study and adjust their triples."
   ]
  },
  {
   "cell_type": "code",
   "execution_count": 24,
   "id": "6e73e729-a0f8-4bec-b62f-a8efabb9cb5d",
   "metadata": {},
   "outputs": [],
   "source": [
    "filtered_graph = Graph()\n",
    "\n",
    "filtered_graph.bind(\"fno\", \"https://w3id.org/function/ontology#\")\n",
    "filtered_graph.bind(\"geof\", \"http://www.opengis.net/def/function/geosparql/\")\n",
    "filtered_graph.bind(\"geo\", \"http://www.opengis.net/ont/geosparql#\")\n",
    "\n",
    "allowed_relations = [\n",
    "    \"http://www.w3.org/1999/02/22-rdf-syntax-ns#type\",\n",
    "    \"http://www.w3.org/2004/02/skos/core#definition\",\n",
    "    \"http://www.w3.org/2004/02/skos/core#prefLabel\"\n",
    "]\n",
    "\n",
    "geof = \"http://www.opengis.net/def/function/geosparql/\"\n",
    "\n",
    "allowed_subjects = [geof+f for f in fnames]\n",
    "\n",
    "for s, p, o in functions.triples((None, None, None)):\n",
    "    if str(p) in allowed_relations and str(s) in allowed_subjects:\n",
    "        filtered_graph.add((s, p, o))\n",
    "\n",
    "for s, p, o in filtered_graph.triples((None, None, None)):\n",
    "    if str(s) in allowed_subjects:\n",
    "        if str(p) == \"http://www.w3.org/1999/02/22-rdf-syntax-ns#type\":\n",
    "            if str(o) == \"http://www.w3.org/ns/sparql-service-description#Function\" or str(o) == \"http://www.w3.org/2004/02/skos/core#Concept\":\n",
    "                filtered_graph.remove((s, p, o))\n",
    "\n",
    "fnames = {'buffer': ('(geo:wktLiteral xsd:double)', '(geo:wktLiteral)', 'geof:buffer(?wkt, 1000)'),\n",
    " 'sfContains': ('(geo:wktLiteral geo:wktLiteral)', '(xsd:boolean)', 'geof:sfContains(?wkt, ?wkt2)'),\n",
    " 'sfCrosses':  ('(geo:wktLiteral geo:wktLiteral)', '(xsd:boolean)', 'geof:sfCrosses(?wkt, ?wkt2)'),\n",
    " 'sfDisjoint':  ('(geo:wktLiteral geo:wktLiteral)', '(xsd:boolean)', 'geof:sfDisjoint(?wkt, ?wkt2)'),\n",
    " 'sfEquals':  ('(geo:wktLiteral geo:wktLiteral)', '(xsd:boolean)', 'geof:sfEquals(?wkt, ?wkt2)'),\n",
    " 'sfIntersects': ('(geo:wktLiteral geo:wktLiteral)', '(xsd:boolean)', 'geof:sfIntersects(?wkt, ?wkt2)'),\n",
    " 'sfOverlaps':  ('(geo:wktLiteral geo:wktLiteral)', '(xsd:boolean)', 'geof:sfOverlaps(?wkt, ?wkt2)'),\n",
    " 'sfTouches':  ('(geo:wktLiteral geo:wktLiteral)', '(xsd:boolean)', 'geof:sfTouches(?wkt, ?wkt2)'),\n",
    " 'sfWithin':  ('(geo:wktLiteral geo:wktLiteral)', '(xsd:boolean)', 'geof:sfWithin(?wkt, ?wkt2)'),\n",
    " 'distance':  ('(geo:wktLiteral geo:wktLiteral)', '(xsd:double)', 'geof:distance(?wkt, ?wkt2)'),\n",
    " 'envelope':  ('(geo:wktLiteral)', '(geo:wktLiteral)', 'geof:envelope(?wkt)')}\n",
    "\n",
    "fnames_with_geof = {geof + key: value for key, value in fnames.items()}\n",
    "\n",
    "geof = rdflib.Namespace(geof)\n",
    "fno = rdflib.Namespace(\"https://w3id.org/function/ontology#\")"
   ]
  },
  {
   "cell_type": "markdown",
   "id": "b8721d8b-5a93-4f84-986d-d2da46cc0d96",
   "metadata": {},
   "source": [
    "## Add triples for better LLM understanding\n",
    "When using the ontology like this, LLMs still get confused and use `geo:Geometry` instances as a inputs for the functions instead of `geo:wktLiterl` literals. Further clarification is needed."
   ]
  },
  {
   "cell_type": "code",
   "execution_count": 26,
   "id": "9b3ec182-cdfa-4c35-8642-446c85cf9d61",
   "metadata": {},
   "outputs": [],
   "source": [
    "for key, value in fnames.items():\n",
    "    subject = geof[key]\n",
    "    predicate1 = fno[\"expects\"]\n",
    "    predicate2 = fno[\"returns\"]\n",
    "    predicate3 = URIRef(\"http://www.w3.org/2004/02/skos/core#example\")\n",
    "    predicate4 = URIRef(\"http://www.w3.org/2004/02/skos/core#note\")\n",
    "    object1 = rdflib.Literal(value[0])\n",
    "    object2 = rdflib.Literal(value[1])\n",
    "    object3 = rdflib.Literal(f\"Example usage of a SPARQL query: {value[2]}\")\n",
    "    object4 = rdflib.Literal(f\"When a function expects a geo:wktLiteral it must be a geo:wktLiteral, a geo:Geometry object will not work.\")\n",
    "    \n",
    "    filtered_graph.add((subject, predicate1, object1))\n",
    "    filtered_graph.add((subject, predicate2, object2))\n",
    "    filtered_graph.add((subject, predicate3, object3))\n",
    "    filtered_graph.add((subject, predicate4, object4))\n",
    "\n",
    "# print(filtered_graph.serialize(format=\"ttl\"))"
   ]
  },
  {
   "cell_type": "markdown",
   "id": "c8134b9f-040f-49f9-abd0-552fb5a20fc0",
   "metadata": {},
   "source": [
    "For every function, a short usage example and a note is added, highlighting the need for `geo:wktLiterals`."
   ]
  },
  {
   "cell_type": "code",
   "execution_count": 28,
   "id": "705b2121-6d36-4ea1-91bf-841cd28f33a2",
   "metadata": {},
   "outputs": [
    {
     "data": {
      "text/plain": [
       "<Graph identifier=N5f2a317ab97147d7b8f4c85c3b7ca4b4 (<class 'rdflib.graph.Graph'>)>"
      ]
     },
     "execution_count": 28,
     "metadata": {},
     "output_type": "execute_result"
    }
   ],
   "source": [
    "subject = URIRef(\"http://www.opengis.net/ont/geosparql#Geometry\")\n",
    "predicate = URIRef(\"http://www.w3.org/2004/02/skos/core#note\")\n",
    "ontology.remove((subject, predicate, None))\n",
    "ontology.add((subject, predicate, Literal(\"Geometries should be represented using the geo:wktLiteral when using geof:Functions\")))\n",
    "#print(ontology.serialize(format=\"ttl\"))"
   ]
  },
  {
   "cell_type": "markdown",
   "id": "8ab12317-bd79-4e78-a01c-2a49ced70790",
   "metadata": {},
   "source": [
    "Furthermore, a `skos:note` is added for the `geo:Geometry` class reminding of the correct usage."
   ]
  },
  {
   "cell_type": "code",
   "execution_count": 30,
   "id": "488620d6-86e0-45a3-ae6d-91c1fd4ffe6f",
   "metadata": {},
   "outputs": [],
   "source": [
    "ontology_full = ontology + filtered_graph\n",
    "# print(ontology_full.serialize(format=\"ttl\"))"
   ]
  },
  {
   "cell_type": "markdown",
   "id": "a0afe6da-ea28-4a7e-8899-d445190ef4b4",
   "metadata": {},
   "source": [
    "# Reduce the Ontology\n",
    "In order to maximise the understandability of the ontology, it is necesarry to remove everything that is not directly needed. For example the relation `rdfs:isDefinedBy` is surely important, however it is not necesarry for generating queries about spatial relations.\n",
    "\n",
    "While designing the ontology in Protégé, most of these relations were already removed. However, some relations are exported by Protégé that will also not be necessary for the LLM:\n",
    "- All `rdf:type owl:annotationProperty` objects. These are of course important, however they do not have to be explicitly defined. Further, advanced LLMs should have a general understanding of these properties anyway.\n"
   ]
  },
  {
   "cell_type": "code",
   "execution_count": 32,
   "id": "ae8970fc-4afe-4b38-95c7-db85735c99fc",
   "metadata": {},
   "outputs": [],
   "source": [
    "annotation_property_uri = OWL.AnnotationProperty\n",
    "\n",
    "# Find all subjects that are of type owl:AnnotationProperty\n",
    "subjects_to_remove = set()\n",
    "for s, p, o in ontology_full.triples((None, RDF.type, annotation_property_uri)):\n",
    "    subjects_to_remove.add(s)\n",
    "\n",
    "triples_to_remove = []\n",
    "for s in subjects_to_remove:\n",
    "    for triple in ontology_full.triples((s, None, None)):\n",
    "        triples_to_remove.append(triple)\n",
    "\n",
    "for triple in triples_to_remove:\n",
    "    ontology_full.remove(triple)"
   ]
  },
  {
   "cell_type": "markdown",
   "id": "d3ee793d-d365-4d2c-89b5-e64ca7092e35",
   "metadata": {},
   "source": [
    "# Add cardinal direction functions to ontology\n",
    "Instead of using one functions that gives alle the cardinal directions there will be four functions for each direction."
   ]
  },
  {
   "cell_type": "code",
   "execution_count": 34,
   "id": "7ea6f512-538d-48b5-af0b-3dc7c8f38e8c",
   "metadata": {},
   "outputs": [],
   "source": [
    "statements = [    \n",
    "    \"\"\"geof:isNorthOf a fno:Function ;\n",
    "        skos:definition \"A function that identifies if one geographic object is north of another geographic object.\"@en ;\n",
    "        skos:example \"Example usage in a SPARQL query: geof:isNorthOf(?wkt, ?wkt2)\" ;\n",
    "        skos:prefLabel \"is north of\"@en ;\n",
    "        fno:expects \"(geo:wktLiteral geo:wktLiteral)\" ;\n",
    "        fno:returns \"(xsd:boolean)\" .\"\"\",\n",
    "    \n",
    "    \"\"\"geof:isWestOf a fno:Function ;\n",
    "        skos:definition \"A function that identifies if one geographic object is west of another geographic object.\"@en ;\n",
    "        skos:example \"Example usage in a SPARQL query: geof:isWestOf(?wkt, ?wkt2)\" ;\n",
    "        skos:prefLabel \"is west of\"@en ;\n",
    "        fno:expects \"(geo:wktLiteral geo:wktLiteral)\" ;\n",
    "        fno:returns \"(xsd:boolean)\" .\"\"\",\n",
    "    \n",
    "    \"\"\"geof:isEastOf a fno:Function ;\n",
    "        skos:definition \"A function that identifies if one geographic object is east of another geographic object.\"@en ;\n",
    "        skos:example \"Example usage in a SPARQL query: geof:isEastOf(?wkt, ?wkt2)\" ;\n",
    "        skos:prefLabel \"is east of\"@en ;\n",
    "        fno:expects \"(geo:wktLiteral geo:wktLiteral)\" ;\n",
    "        fno:returns \"(xsd:boolean)\" .\"\"\",\n",
    "    \n",
    "    \"\"\"geof:isSouthOf a fno:Function ;\n",
    "        skos:definition \"A function that identifies if one geographic object is south of another geographic object.\"@en ;\n",
    "        skos:example \"Example usage in a SPARQL query: geof:isSouthOf(?wkt, ?wkt2)\" ;\n",
    "        skos:prefLabel \"is south of\"@en ;\n",
    "        fno:expects \"(geo:wktLiteral geo:wktLiteral)\" ;\n",
    "        fno:returns \"(xsd:boolean)\" .\"\"\"\n",
    "]"
   ]
  },
  {
   "cell_type": "code",
   "execution_count": 35,
   "id": "6808cb69-009e-4b45-acff-15227ebb54df",
   "metadata": {},
   "outputs": [],
   "source": [
    "insert_query = \"\"\"\n",
    "PREFIX geof: <http://www.opengis.net/def/function/geosparql/>\n",
    "PREFIX skos: <http://www.w3.org/2004/02/skos/core#>\n",
    "PREFIX geo: <http://www.opengis.net/ont/geosparql#>\n",
    "PREFIX fno: <https://w3id.org/function/ontology#>\n",
    "\n",
    "INSERT DATA {\n",
    "STATEMENT\n",
    "}\n",
    "\"\"\""
   ]
  },
  {
   "cell_type": "code",
   "execution_count": 36,
   "id": "622d8cf5-e9b0-4914-8a82-8153d4b869e2",
   "metadata": {},
   "outputs": [],
   "source": [
    "for statement in statements:\n",
    "    ontology_full.update(insert_query.replace(\"STATEMENT\", statement))"
   ]
  },
  {
   "cell_type": "markdown",
   "id": "4e464040-231b-41ca-b426-620ef3b784bc",
   "metadata": {},
   "source": [
    "# Filter the full ontology for only relevant triples\n",
    "via the predicate."
   ]
  },
  {
   "cell_type": "code",
   "execution_count": 38,
   "id": "3aba5029-8541-478c-8ee6-4966f33301bd",
   "metadata": {},
   "outputs": [],
   "source": [
    "allowed_relations2 = [\n",
    "    \"http://www.w3.org/2000/01/rdf-schema#domain\",\n",
    "    \"http://www.w3.org/2004/02/skos/core#prefLabel\",\n",
    "    \"https://w3id.org/function/ontology#expects\",\n",
    "    \"http://www.w3.org/2004/02/skos/core#example\",\n",
    "    \"http://www.w3.org/2000/01/rdf-schema#label\",\n",
    "    \"http://www.w3.org/2000/01/rdf-schema#comment\",\n",
    "    \"https://w3id.org/function/ontology#returns\",\n",
    "    \"http://www.w3.org/1999/02/22-rdf-syntax-ns#type\",\n",
    "    \"http://www.w3.org/2000/01/rdf-schema#subClassOf\",\n",
    "    \"http://www.w3.org/2000/01/rdf-schema#range\",\n",
    "    \"http://www.w3.org/2004/02/skos/core#note\",\n",
    "    \"http://www.w3.org/2004/02/skos/core#definition\",\n",
    "    \"http://www.w3.org/2002/07/owl#equivalentClass\"]\n",
    "\n",
    "filtered_ontology = Graph()\n",
    "\n",
    "filtered_ontology.bind(\"fno\", \"https://w3id.org/function/ontology#\")\n",
    "filtered_ontology.bind(\"geof\", \"http://www.opengis.net/def/function/geosparql/\")\n",
    "filtered_ontology.bind(\"gn\", \"https://www.geonames.org/ontology#\")\n",
    "filtered_ontology.bind(\"gn\", \"https://www.geonames.org/ontology#\")\n",
    "filtered_ontology.bind(\"nutsdef\", \"http://data.europa.eu/nuts/\")\n",
    "\n",
    "for s, p, o in ontology_full.triples((None, None, None)):\n",
    "    if str(p) in allowed_relations2:\n",
    "        filtered_ontology.add((s, p, o))\n",
    "\n",
    "# print(filtered_ontology.serialize(format=\"ttl\"))"
   ]
  },
  {
   "cell_type": "code",
   "execution_count": 39,
   "id": "1eb783a3-2877-467e-8a34-2fbc0ce2150d",
   "metadata": {},
   "outputs": [
    {
     "data": {
      "text/plain": [
       "<Graph identifier=N7e33c6c623ce428292a2bfa517a9874c (<class 'rdflib.graph.Graph'>)>"
      ]
     },
     "execution_count": 39,
     "metadata": {},
     "output_type": "execute_result"
    }
   ],
   "source": [
    "# used in the first set of experiments\n",
    "ontology_full_turtle = ontology_full.serialize(format=\"turtle\")\n",
    "ontology_full.serialize(destination=\"data/ontology_full_v1.ttl\", format=\"turtle\")"
   ]
  },
  {
   "cell_type": "code",
   "execution_count": 40,
   "id": "b155feca-8980-4fd3-a50d-acc66b388efe",
   "metadata": {},
   "outputs": [
    {
     "data": {
      "text/plain": [
       "<Graph identifier=N2916b74c92924de8acd2280129299a9b (<class 'rdflib.graph.Graph'>)>"
      ]
     },
     "execution_count": 40,
     "metadata": {},
     "output_type": "execute_result"
    }
   ],
   "source": [
    "# not used yet\n",
    "filtered_ontology_turtle = filtered_ontology.serialize(format=\"turtle\")\n",
    "filtered_ontology.serialize(destination=\"data/ontology_full_v2.ttl\", format=\"turtle\")\n",
    "\n",
    "# visualize(ontology_full)\n",
    "# print(ontology_full_turtle)"
   ]
  },
  {
   "cell_type": "markdown",
   "id": "2d61c69c-e8ff-468d-a0ee-6ce2e0bd000c",
   "metadata": {},
   "source": [
    "# Get alternative Ontology\n",
    "To test the raw reasoning capabilities, all explanations (natural language) triples are removed. If the LLM does have reasoning capabilities beyond just natural language, this should not make a difference."
   ]
  },
  {
   "cell_type": "code",
   "execution_count": 42,
   "id": "1b64dbc3-a3c2-4b51-a888-b6910999ab51",
   "metadata": {},
   "outputs": [
    {
     "data": {
      "text/plain": [
       "<Graph identifier=Na4e0ac7830e444fe846b28eaa4b52596 (<class 'rdflib.graph.Graph'>)>"
      ]
     },
     "execution_count": 42,
     "metadata": {},
     "output_type": "execute_result"
    }
   ],
   "source": [
    "allowed_relations2 = [\n",
    "    \"http://www.w3.org/2000/01/rdf-schema#domain\",\n",
    "    \"http://www.w3.org/2004/02/skos/core#prefLabel\",\n",
    "    \"https://w3id.org/function/ontology#expects\",\n",
    "    \"http://www.w3.org/2000/01/rdf-schema#label\",\n",
    "    \"https://w3id.org/function/ontology#returns\",\n",
    "    \"http://www.w3.org/1999/02/22-rdf-syntax-ns#type\",\n",
    "    \"http://www.w3.org/2000/01/rdf-schema#subClassOf\",\n",
    "    \"http://www.w3.org/2000/01/rdf-schema#range\",\n",
    "    \"http://www.w3.org/2002/07/owl#equivalentClass\"]\n",
    "\n",
    "filtered_ontology = Graph()\n",
    "\n",
    "filtered_ontology.bind(\"fno\", \"https://w3id.org/function/ontology#\")\n",
    "filtered_ontology.bind(\"geof\", \"http://www.opengis.net/def/function/geosparql/\")\n",
    "filtered_ontology.bind(\"gn\", \"https://www.geonames.org/ontology#\")\n",
    "filtered_ontology.bind(\"gn\", \"https://www.geonames.org/ontology#\")\n",
    "filtered_ontology.bind(\"nutsdef\", \"http://data.europa.eu/nuts/\")\n",
    "\n",
    "for s, p, o in ontology_full.triples((None, None, None)):\n",
    "    if str(p) in allowed_relations2:\n",
    "        filtered_ontology.add((s, p, o))\n",
    "\n",
    "filtered_ontology_turtle = filtered_ontology.serialize(format=\"turtle\")\n",
    "filtered_ontology.serialize(destination=\"data/ontology_full_v3.ttl\", format=\"turtle\")\n"
   ]
  }
 ],
 "metadata": {
  "kernelspec": {
   "display_name": "Python 3 (ipykernel)",
   "language": "python",
   "name": "python3"
  },
  "language_info": {
   "codemirror_mode": {
    "name": "ipython",
    "version": 3
   },
   "file_extension": ".py",
   "mimetype": "text/x-python",
   "name": "python",
   "nbconvert_exporter": "python",
   "pygments_lexer": "ipython3",
   "version": "3.11.9"
  }
 },
 "nbformat": 4,
 "nbformat_minor": 5
}
