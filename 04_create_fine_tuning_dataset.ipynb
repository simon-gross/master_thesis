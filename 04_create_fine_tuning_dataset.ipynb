{
 "cells": [
  {
   "cell_type": "markdown",
   "id": "c53cbce7-878a-4514-9939-300e3f183c72",
   "metadata": {},
   "source": [
    "# Fine-tuning the OpenAI gpt-4o-mini model"
   ]
  },
  {
   "cell_type": "markdown",
   "id": "54b2d288-acd8-43c2-a358-5d7cf60646e9",
   "metadata": {},
   "source": [
    "The untuned models do not reliably create sparql requests even when providing the ontology and trying different prompting techniques. This notebook creates a dataset of questions-answer pairs for fine-tuning the model. An important part is to clarify the generation parts that the models understands the worst. Mainly the use of wktLiterals instead of geometry objects."
   ]
  },
  {
   "cell_type": "code",
   "execution_count": 3,
   "id": "7e0b78f4-1ff8-476f-a8a2-9f19c4e069b1",
   "metadata": {},
   "outputs": [],
   "source": [
    "template = \"\"\"\n",
    "Write a SPARQL SELECT query for querying a graph database.\n",
    "The ontology schema delimited by triple backticks in Turtle format is:\n",
    "```\n",
    "{}\n",
    "```\n",
    "Use only the classes and properties provided in the schema to construct the SPARQL query.\n",
    "Do not use any classes or properties that are not explicitly provided in the SPARQL query.\n",
    "Include all necessary prefixes.\n",
    "Do not include any explanations or apologies in your responses.\n",
    "Do not wrap the query in backticks.\n",
    "Do not include any text except the SPARQL query generated.\n",
    "The question delimited by triple backticks is:\n",
    "```\n",
    "{}\n",
    "```\n",
    "\"\"\""
   ]
  },
  {
   "cell_type": "code",
   "execution_count": 4,
   "id": "3bdf30ca-f019-4fcb-b0a7-cc690e6864a9",
   "metadata": {},
   "outputs": [],
   "source": [
    "import os\n",
    "import itertools\n",
    "from rdflib import Graph\n",
    "from openai import OpenAI\n",
    "from functions.sparql_requests import sparql_select\n",
    "\n",
    "graphdb_server_url = 'http://localhost:7200'\n",
    "repository_id = 'geonuts'\n",
    "select_endpoint_url = f\"http://localhost:7200/repositories/{repository_id}\"\n",
    "update_endpoint_url = f\"http://localhost:7200/repositories/{repository_id}/statements\"\n",
    "# \n",
    "base_iri_geometry = \"http://geonuts.eu/geometry/\"\n",
    "\n",
    "ontology_full = Graph()\n",
    "ontology_full = ontology_full.parse(\"data/ontology_full_v1.ttl\", format=\"turtle\")\n",
    "ontology_full_turtle = ontology_full.serialize(format=\"turtle\")"
   ]
  },
  {
   "cell_type": "code",
   "execution_count": 5,
   "id": "36817b47-32f9-4b72-ab00-a7480e38da55",
   "metadata": {},
   "outputs": [],
   "source": [
    "client = OpenAI(api_key = os.environ['OPENAI1'])\n",
    "ft_model_name = os.environ.get('FT_MODEL')"
   ]
  },
  {
   "cell_type": "code",
   "execution_count": 6,
   "id": "8b8ddc53-313c-4803-a96d-0b98a126594f",
   "metadata": {},
   "outputs": [],
   "source": [
    "def test_requests(comb, ontology):\n",
    "    model, template, prompt = comb\n",
    "    full_prompt = template.format(ontology, prompt)\n",
    "\n",
    "    if model == \"gemini-1.5-flash\":\n",
    "        time.sleep(15)\n",
    "        runner = GenerativeModel(model_name=model)\n",
    "        response = runner.generate_content(full_prompt)\n",
    "        try:\n",
    "            return response.text\n",
    "        except:\n",
    "            return \"COULD NOT GET TEXT GEMINI\"\n",
    "\n",
    "    else:\n",
    "        completion = client.chat.completions.create(\n",
    "            model=model,\n",
    "            temperature=0,\n",
    "            n=1,\n",
    "            messages=[{\"role\": \"user\", \"content\": full_prompt}],\n",
    "            max_tokens=500\n",
    "            )\n",
    "        try:\n",
    "            return completion.choices[0].message.content\n",
    "        except:\n",
    "            return \"COULD NOT GET TEXT FROM OPENAI\"\n",
    "    \n",
    "\n",
    "def run_tests(ontology, models=[], templates=[], prompts=[]):\n",
    "    print(\"Testing current ontology:\")\n",
    "    combinations = list(itertools.product(models, templates, prompts))\n",
    "\n",
    "    results = [test_requests(comb, ontology) for comb in combinations]\n",
    "    return results\n",
    "\n",
    "\n",
    "template = \"\"\"\n",
    "Write a SPARQL SELECT query for querying a graph database.\n",
    "The ontology schema delimited by triple backticks in Turtle format is:\n",
    "```\n",
    "{}\n",
    "```\n",
    "Use only the classes and properties provided in the schema to construct the SPARQL query.\n",
    "Do not use any classes or properties that are not explicitly provided in the SPARQL query.\n",
    "Include all necessary prefixes.\n",
    "Do not include any explanations or apologies in your responses.\n",
    "Do not wrap the query in backticks.\n",
    "Do not include any text except the SPARQL query generated.\n",
    "The question delimited by triple backticks is:\n",
    "```\n",
    "{}\n",
    "```\n",
    "\"\"\""
   ]
  },
  {
   "cell_type": "markdown",
   "id": "e394cf73-9e34-4291-9934-827456b2de2b",
   "metadata": {},
   "source": [
    "# Define 5 example questions"
   ]
  },
  {
   "cell_type": "code",
   "execution_count": 8,
   "id": "27e5bf79-b5b8-4188-a973-833d61d042ce",
   "metadata": {},
   "outputs": [],
   "source": [
    "prompts = [\"What are cities that are within 5 km of the NUTS region DE30?\",\n",
    "           \"What NUTS regions are neighbors of the NUTS region AT22 and have the same NUTS level?\",\n",
    "           \"Which NUTS region border the NUTS region FRK21 but are not inside the region?\",\n",
    "           \"Which cities with more then 20000 inhabitant are within a 20 km radius of Warsaw?\",\n",
    "           \"Which cities are 20 km or less from the NUTS region DED43 but not inside the region itself and have more than 40 thousand inhabitants?\"]"
   ]
  },
  {
   "cell_type": "markdown",
   "id": "bc3d675f-1a8e-498b-ba5b-b5e0d8b27fc4",
   "metadata": {},
   "source": [
    "## Send the examples to gpt-4o-mini\n",
    "then correct the answers manually and save them in a training list. Below, the fixed examples start."
   ]
  },
  {
   "cell_type": "code",
   "execution_count": 10,
   "id": "274b3064-b80c-455b-89d3-8152e3c70d6f",
   "metadata": {},
   "outputs": [
    {
     "name": "stdout",
     "output_type": "stream",
     "text": [
      "Testing current ontology:\n"
     ]
    }
   ],
   "source": [
    "results = run_tests(ontology_full_turtle, models=[\"gpt-4o-mini\"], templates=[template], prompts=prompts)"
   ]
  },
  {
   "cell_type": "code",
   "execution_count": 11,
   "id": "5a11524d-6c3b-44cf-9f13-ab12b4cca37e",
   "metadata": {},
   "outputs": [
    {
     "name": "stdout",
     "output_type": "stream",
     "text": [
      "PREFIX geo: <http://www.opengis.net/ont/geosparql#> \n",
      "PREFIX geof: <http://www.opengis.net/def/function/geosparql/> \n",
      "PREFIX gn: <https://www.geonames.org/ontology#> \n",
      "PREFIX nutsdef: <http://data.europa.eu/nuts/> \n",
      "\n",
      "SELECT ?city ?cityName WHERE {\n",
      "  ?city a gn:Feature .\n",
      "  ?city gn:name ?cityName .\n",
      "  ?city geo:hasGeometry ?cityGeometry .\n",
      "  nutsdef:DE30 geo:hasGeometry ?nutsGeometry .\n",
      "  FILTER(geof:sfWithin(?cityGeometry, geof:buffer(?nutsGeometry, 5000)))\n",
      "}\n"
     ]
    }
   ],
   "source": [
    "print(results[0])"
   ]
  },
  {
   "cell_type": "code",
   "execution_count": 12,
   "id": "7ce6b09d-5b44-4f5b-994b-a49e16049665",
   "metadata": {},
   "outputs": [],
   "source": [
    "fixed = \"\"\"\n",
    "PREFIX dcterms: <http://purl.org/dc/terms/> \n",
    "PREFIX geo: <http://www.opengis.net/ont/geosparql#> \n",
    "PREFIX geof: <http://www.opengis.net/def/function/geosparql/> \n",
    "PREFIX gn: <https://www.geonames.org/ontology#> \n",
    "PREFIX nutsdef: <http://data.europa.eu/nuts/> \n",
    "PREFIX skos: <http://www.w3.org/2004/02/skos/core#> \n",
    "\n",
    "SELECT ?city ?cityName WHERE {\n",
    "  ?city a gn:Feature ;\n",
    "        gn:name ?cityName ;\n",
    "        geo:hasGeometry ?cityGeometry .\n",
    "  ?cityGeometry geo:asWKT ?cityWKT .\n",
    "  ?region a skos:Concept ;\n",
    "          skos:notation \"DE30\" ;\n",
    "          geo:hasGeometry ?regionGeometry .\n",
    "  ?regionGeometry geo:asWKT ?regionWKT .\n",
    "  FILTER(geof:sfWithin(?cityWKT, geof:buffer(?regionWKT, 5000)))\n",
    "}\"\"\""
   ]
  },
  {
   "cell_type": "markdown",
   "id": "43adee68-07d2-45c4-ae6e-da601eacca8c",
   "metadata": {},
   "source": [
    "The first result already has problems using the wktLiterals. This will be fixed and than saved as a fine-tuning example."
   ]
  },
  {
   "cell_type": "code",
   "execution_count": 14,
   "id": "b6ea27b3-4070-4847-8ca6-727547df5226",
   "metadata": {},
   "outputs": [],
   "source": [
    "training_list = []\n",
    "training_list.append([template.format(ontology_full_turtle, prompts[0]), fixed])"
   ]
  },
  {
   "cell_type": "code",
   "execution_count": 15,
   "id": "4a8bfda0-1692-467f-b298-f7aef652696a",
   "metadata": {},
   "outputs": [
    {
     "name": "stdout",
     "output_type": "stream",
     "text": [
      "PREFIX nutsdef: <http://data.europa.eu/nuts/>\n",
      "PREFIX geo: <http://www.opengis.net/ont/geosparql#>\n",
      "PREFIX gn: <https://www.geonames.org/ontology#>\n",
      "PREFIX skos: <http://www.w3.org/2004/02/skos/core#>\n",
      "\n",
      "SELECT ?neighborRegion\n",
      "WHERE {\n",
      "  ?region a skos:Concept ;\n",
      "          nutsdef:level ?level ;\n",
      "          skos:notation \"AT22\" .\n",
      "  \n",
      "  ?neighborRegion a skos:Concept ;\n",
      "                  nutsdef:level ?level ;\n",
      "                  geo:hasGeometry ?geometry1 .\n",
      "  \n",
      "  ?region geo:hasGeometry ?geometry2 .\n",
      "  \n",
      "  FILTER(geof:sfTouches(?geometry1, ?geometry2))\n",
      "}\n"
     ]
    }
   ],
   "source": [
    "print(results[1])"
   ]
  },
  {
   "cell_type": "code",
   "execution_count": 16,
   "id": "bf8e2307-3e1c-41e8-8ac2-bb07c506943f",
   "metadata": {},
   "outputs": [],
   "source": [
    "fixed = \"\"\"\n",
    "PREFIX geo: <http://www.opengis.net/ont/geosparql#>\n",
    "PREFIX geof: <http://www.opengis.net/def/function/geosparql/> \n",
    "PREFIX nutsdef: <http://data.europa.eu/nuts/>\n",
    "PREFIX skos: <http://www.w3.org/2004/02/skos/core#>\n",
    "\n",
    "SELECT ?neighborNotation\n",
    "WHERE {\n",
    "\t?region a skos:Concept ;\n",
    "        nutsdef:level ?level ;\n",
    "        skos:notation \"AT22\" ;\n",
    "    \tgeo:hasGeometry ?regionGeom .\n",
    "    ?regionGeom geo:asWKT ?regionWKT .\n",
    "    ?neighborRegion a skos:Concept ;\n",
    "        nutsdef:level ?level ;\n",
    "        skos:notation ?neighborNotation ;\n",
    "    \tgeo:hasGeometry ?neighborRegionGeom .\n",
    "    ?neighborRegionGeom geo:asWKT ?neighborRegionWKT .\n",
    "    FILTER(geof:sfTouches(?regionWKT, ?neighborRegionWKT)) .\n",
    "}\"\"\""
   ]
  },
  {
   "cell_type": "code",
   "execution_count": 17,
   "id": "21ae5634-6af4-444f-a1cb-4b9da018ab82",
   "metadata": {},
   "outputs": [],
   "source": [
    "training_list.append([template.format(ontology_full_turtle, prompts[1]), fixed])"
   ]
  },
  {
   "cell_type": "code",
   "execution_count": 18,
   "id": "c1fec30f-7586-45fb-83d3-1d4c39585d8f",
   "metadata": {},
   "outputs": [
    {
     "name": "stdout",
     "output_type": "stream",
     "text": [
      "Which NUTS region border the NUTS region FRK21 but are not inside the region?\n",
      "PREFIX fno: <https://w3id.org/function/ontology#> \n",
      "PREFIX geo: <http://www.opengis.net/ont/geosparql#> \n",
      "PREFIX gn: <https://www.geonames.org/ontology#> \n",
      "PREFIX nutsdef: <http://data.europa.eu/nuts/> \n",
      "PREFIX skos: <http://www.w3.org/2004/02/skos/core#> \n",
      "\n",
      "SELECT ?region WHERE {\n",
      "  ?region a skos:Concept .\n",
      "  ?region nutsdef:hasGeometry ?geometry .\n",
      "  ?frk21 a skos:Concept ;\n",
      "          nutsdef:hasGeometry ?geometry_frk21 .\n",
      "  ?geometry_frk21 geo:asWKT ?wkt_frk21 .\n",
      "  ?geometry geo:asWKT ?wkt .\n",
      "  \n",
      "  FILTER(geof:sfCrosses(?wkt_frk21, ?wkt) && !geof:sfWithin(?wkt, ?wkt_frk21))\n",
      "}\n"
     ]
    }
   ],
   "source": [
    "print(prompts[2])\n",
    "print(results[2])"
   ]
  },
  {
   "cell_type": "code",
   "execution_count": 19,
   "id": "e593f76d-e9b8-452f-ad2e-ba335d365911",
   "metadata": {},
   "outputs": [],
   "source": [
    "fixed = \"\"\"\n",
    "PREFIX geo: <http://www.opengis.net/ont/geosparql#> \n",
    "PREFIX geof: <http://www.opengis.net/def/function/geosparql/> \n",
    "PREFIX skos: <http://www.w3.org/2004/02/skos/core#> \n",
    "\n",
    "SELECT ?regionNotation\n",
    "WHERE {\n",
    "  ?region a skos:Concept ;\n",
    "          geo:hasGeometry ?geometry ;\n",
    "    \t  skos:notation ?regionNotation .\n",
    "    ?geometry geo:asWKT ?wkt .\n",
    "  ?region2 a skos:Concept ;\n",
    "           skos:notation \"FRK21\" ;\n",
    "           geo:hasGeometry ?geometry2 .\n",
    "    ?geometry2 geo:asWKT ?wkt2 .\n",
    "  FILTER(geof:sfTouches(?wkt, ?wkt2) && !geof:sfWithin(?wkt, ?wkt2))\n",
    "}\"\"\""
   ]
  },
  {
   "cell_type": "code",
   "execution_count": 20,
   "id": "a8c2cc4e-d451-4fd7-b317-1432d80cf835",
   "metadata": {},
   "outputs": [],
   "source": [
    "training_list.append([template.format(ontology_full_turtle, prompts[2]), fixed])"
   ]
  },
  {
   "cell_type": "code",
   "execution_count": 21,
   "id": "3ec0daed-b3b9-4832-8f18-9b05101308a7",
   "metadata": {},
   "outputs": [
    {
     "name": "stdout",
     "output_type": "stream",
     "text": [
      "Which cities with more then 20000 inhabitant are within a 20 km radius of Warsaw?\n",
      "PREFIX geo: <http://www.opengis.net/ont/geosparql#>\n",
      "PREFIX geof: <http://www.opengis.net/def/function/geosparql/>\n",
      "PREFIX gn: <https://www.geonames.org/ontology#>\n",
      "PREFIX xsd: <http://www.w3.org/2001/XMLSchema#>\n",
      "\n",
      "SELECT ?city ?population WHERE {\n",
      "  ?city a gn:Feature ;\n",
      "        gn:population ?population ;\n",
      "        geo:hasGeometry ?geometry .\n",
      "  ?geometry geo:asWKT ?wkt .\n",
      "  \n",
      "  FILTER(?population > 20000)\n",
      "  \n",
      "  FILTER(geof:sfWithin(?wkt, geof:buffer(geo:wktLiteral(\"POINT(21.0122 52.2297)\"^^geo:wktLiteral), 20000)))\n",
      "}\n"
     ]
    }
   ],
   "source": [
    "print(prompts[3])\n",
    "print(results[3])"
   ]
  },
  {
   "cell_type": "code",
   "execution_count": 22,
   "id": "9ebcb174-a836-4a32-9f60-c3bd0a7e8db0",
   "metadata": {},
   "outputs": [],
   "source": [
    "fixed = \"\"\"\n",
    "PREFIX geo: <http://www.opengis.net/ont/geosparql#>\n",
    "PREFIX geof: <http://www.opengis.net/def/function/geosparql/>\n",
    "PREFIX gn: <https://www.geonames.org/ontology#>\n",
    "\n",
    "SELECT ?cityName WHERE {\n",
    "    ?city a gn:Feature ;\n",
    "    \tgn:name ?cityName ;\n",
    "        gn:population ?population ;\n",
    "        geo:hasGeometry ?geometry .\n",
    "    ?geometry geo:asWKT ?wkt .\n",
    "\n",
    "    FILTER(?population > 20000)\n",
    "\n",
    "    ?warsaw a gn:Feature ;\n",
    "    \tgn:name \"Warsaw\" ;\n",
    "    \tgeo:hasGeometry ?warsawGeom .\n",
    "\t?warsawGeom geo:asWKT ?warsawWKT .\n",
    "\n",
    "  \tFILTER(geof:sfWithin(?wkt, geof:buffer(?warsawWKT, 20000)))\n",
    "}\"\"\""
   ]
  },
  {
   "cell_type": "code",
   "execution_count": 23,
   "id": "0f990bb8-7b1e-446a-956f-07d2de0c7495",
   "metadata": {},
   "outputs": [],
   "source": [
    "training_list.append([template.format(ontology_full_turtle, prompts[3]), fixed])"
   ]
  },
  {
   "cell_type": "code",
   "execution_count": 24,
   "id": "baa6c7ae-23d9-4a91-8e39-100d789e4847",
   "metadata": {},
   "outputs": [
    {
     "name": "stdout",
     "output_type": "stream",
     "text": [
      "Which cities are 20 km or less from the NUTS region DED43 but not inside the region itself and have more than 40 thousand inhabitants?\n",
      "PREFIX fno: <https://w3id.org/function/ontology#> \n",
      "PREFIX geo: <http://www.opengis.net/ont/geosparql#> \n",
      "PREFIX geof: <http://www.opengis.net/def/function/geosparql/> \n",
      "PREFIX gn: <https://www.geonames.org/ontology#> \n",
      "PREFIX nutsdef: <http://data.europa.eu/nuts/> \n",
      "PREFIX rdfs: <http://www.w3.org/2000/01/rdf-schema#> \n",
      "\n",
      "SELECT ?city ?population WHERE {\n",
      "  ?city a gn:Feature ;\n",
      "        gn:population ?population ;\n",
      "        geo:hasGeometry ?cityGeometry .\n",
      "  \n",
      "  ?region a skos:Concept ;\n",
      "          nutsdef:level \"3\" ;\n",
      "          rdfs:label \"DED43\" ;\n",
      "          geo:hasGeometry ?regionGeometry .\n",
      "\n",
      "  FILTER(?population > 40000)\n",
      "  FILTER(geof:sfDisjoint(?cityGeometry, ?regionGeometry))\n",
      "  FILTER(geof:sfWithin(?cityGeometry, geof:buffer(?regionGeometry, 20000)))\n",
      "}\n"
     ]
    }
   ],
   "source": [
    "print(prompts[4])\n",
    "print(results[4])"
   ]
  },
  {
   "cell_type": "code",
   "execution_count": 25,
   "id": "b028883a-6977-40c4-b106-b06d6660aa71",
   "metadata": {},
   "outputs": [],
   "source": [
    "fixed = \"\"\"\n",
    "PREFIX geo: <http://www.opengis.net/ont/geosparql#> \n",
    "PREFIX geof: <http://www.opengis.net/def/function/geosparql/> \n",
    "PREFIX gn: <https://www.geonames.org/ontology#> \n",
    "PREFIX skos: <http://www.w3.org/2004/02/skos/core#> \n",
    "\n",
    "SELECT ?cityName ?population \n",
    "WHERE {\n",
    "    ?city a gn:Feature ;\n",
    "    \tgn:name ?cityName ;\n",
    "        gn:population ?population ;\n",
    "        geo:hasGeometry ?cityGeom .\n",
    "\n",
    "    ?cityGeom geo:asWKT ?cityWKT .\n",
    "\n",
    "    ?region a skos:Concept ;\n",
    "        skos:notation \"DED43\" ;\n",
    "        geo:hasGeometry ?regionGeom .\n",
    "    ?regionGeom geo:asWKT ?regionWKT .\n",
    "\n",
    "    FILTER(?population > 40000)\n",
    "    FILTER(geof:sfDisjoint(?cityWKT, ?regionWKT))\n",
    "  \tFILTER(geof:sfWithin(?cityWKT, geof:buffer(?regionWKT, 20000)))\n",
    "}\"\"\""
   ]
  },
  {
   "cell_type": "code",
   "execution_count": 26,
   "id": "8e04674c-6397-41eb-bcef-558b3d6e4aba",
   "metadata": {},
   "outputs": [],
   "source": [
    "training_list.append([template.format(ontology_full_turtle, prompts[4]), fixed])"
   ]
  },
  {
   "cell_type": "markdown",
   "id": "b4852702-1960-4f2a-866d-6df2686ff03a",
   "metadata": {},
   "source": [
    "# Additional Training examples:\n",
    "Define more questions, generate the answers and fix them manually."
   ]
  },
  {
   "cell_type": "code",
   "execution_count": 28,
   "id": "ae24bc46-df3a-44a5-ae62-20ddabd40f53",
   "metadata": {},
   "outputs": [
    {
     "name": "stdout",
     "output_type": "stream",
     "text": [
      "Testing current ontology:\n",
      "PREFIX gn: <https://www.geonames.org/ontology#>\n",
      "PREFIX geo: <http://www.opengis.net/ont/geosparql#>\n",
      "PREFIX rdfs: <http://www.w3.org/2000/01/rdf-schema#>\n",
      "PREFIX skos: <http://www.w3.org/2004/02/skos/core#>\n",
      "PREFIX nutsdef: <http://data.europa.eu/nuts/>\n",
      "\n",
      "SELECT ?city ?population WHERE {\n",
      "  ?city a gn:Feature ;\n",
      "        gn:population ?population ;\n",
      "        gn:geonamesID ?geonamesID .\n",
      "  ?region a skos:Concept ;\n",
      "          nutsdef:level \"1\" ;\n",
      "          skos:notation \"MT00\" .\n",
      "  ?city geo:hasGeometry ?geometry .\n",
      "  ?geometry geo:asWKT ?wkt .\n",
      "} ORDER BY DESC(?population) LIMIT 5\n"
     ]
    }
   ],
   "source": [
    "ex = \"What are the 5 biggest cities in the region MT00?\"\n",
    "prompts.append(ex)\n",
    "print(run_tests(ontology_full_turtle, models=[\"gpt-4o-mini\"], templates=[template], prompts=[ex])[0])"
   ]
  },
  {
   "cell_type": "code",
   "execution_count": 29,
   "id": "0eab153c-5151-4040-9b05-90e3185f9ff6",
   "metadata": {},
   "outputs": [],
   "source": [
    "fixed = \"\"\"PREFIX geo: <http://www.opengis.net/ont/geosparql#> \n",
    "PREFIX geof: <http://www.opengis.net/def/function/geosparql/>\n",
    "PREFIX gn: <https://www.geonames.org/ontology#> \n",
    "PREFIX skos: <http://www.w3.org/2004/02/skos/core#> \n",
    "\n",
    "SELECT ?cityName ?population WHERE {\n",
    "    ?city a gn:Feature ;\n",
    "        gn:population ?population ;\n",
    "    \tgn:name ?cityName ;\n",
    "        geo:hasGeometry ?cityGeom .\n",
    "    ?cityGeom geo:asWKT ?cityWKT .\n",
    "            \n",
    "    ?region a skos:Concept ;\n",
    "    \tskos:notation \"MT00\" ;\n",
    "        geo:hasGeometry ?regionGeom .\n",
    "    ?regionGeom geo:asWKT ?regionWKT .\n",
    "    FILTER(geof:sfWithin(?cityWKT, ?regionWKT))\n",
    "} ORDER BY DESC(?population) LIMIT 5\"\"\""
   ]
  },
  {
   "cell_type": "code",
   "execution_count": 30,
   "id": "2f920c79-d82e-4599-8020-ae66dd874de2",
   "metadata": {},
   "outputs": [],
   "source": [
    "training_list.append([template.format(ontology_full_turtle, ex), fixed])"
   ]
  },
  {
   "cell_type": "code",
   "execution_count": 31,
   "id": "5cb404ff-6970-4565-b96a-5dfadc176470",
   "metadata": {},
   "outputs": [
    {
     "name": "stdout",
     "output_type": "stream",
     "text": [
      "Testing current ontology:\n",
      "PREFIX fno: <https://w3id.org/function/ontology#> \n",
      "PREFIX geo: <http://www.opengis.net/ont/geosparql#> \n",
      "PREFIX geof: <http://www.opengis.net/def/function/geosparql/> \n",
      "PREFIX gn: <https://www.geonames.org/ontology#> \n",
      "PREFIX nutsdef: <http://data.europa.eu/nuts/> \n",
      "PREFIX owl: <http://www.w3.org/2002/07/owl#> \n",
      "PREFIX rdfs: <http://www.w3.org/2000/01/rdf-schema#> \n",
      "PREFIX skos: <http://www.w3.org/2004/02/skos/core#> \n",
      "PREFIX xsd: <http://www.w3.org/2001/XMLSchema#> \n",
      "\n",
      "SELECT ?city ?population WHERE {\n",
      "  ?region a skos:Concept ;\n",
      "          nutsdef:level \"2\" ;\n",
      "          skos:notation \"PL22A\" .\n",
      "  \n",
      "  ?borderingRegion a skos:Concept ;\n",
      "                   nutsdef:level \"2\" ;\n",
      "                   geo:hasGeometry ?geometry .\n",
      "  \n",
      "  ?city a gn:Feature ;\n",
      "        gn:population ?population ;\n",
      "        geo:hasGeometry ?cityGeometry .\n",
      "  \n",
      "  geof:sfIntersects(?geometry, ?cityGeometry) .\n",
      "  \n",
      "  FILTER(?region != ?borderingRegion)\n",
      "} \n",
      "ORDER BY DESC(?population) \n",
      "LIMIT 3\n"
     ]
    }
   ],
   "source": [
    "ex = \"What the 3 biggest cities that are in a region bordering and with the same NUTS level as the region PL22A?\"\n",
    "prompts.append(ex)\n",
    "print(run_tests(ontology_full_turtle, models=[\"gpt-4o-mini\"], templates=[template], prompts=[ex])[0])"
   ]
  },
  {
   "cell_type": "code",
   "execution_count": 32,
   "id": "edb18599-a617-4ed3-ae64-88d6ccc5c1fc",
   "metadata": {},
   "outputs": [],
   "source": [
    "fixed = \"\"\"PREFIX geo: <http://www.opengis.net/ont/geosparql#> \n",
    "PREFIX geof: <http://www.opengis.net/def/function/geosparql/> \n",
    "PREFIX gn: <https://www.geonames.org/ontology#> \n",
    "PREFIX nutsdef: <http://data.europa.eu/nuts/> \n",
    "PREFIX skos: <http://www.w3.org/2004/02/skos/core#> \n",
    "\n",
    "SELECT ?cityName ?population\n",
    "WHERE {\n",
    "    ?region a skos:Concept ;\n",
    "        nutsdef:level ?level ;\n",
    "        skos:notation \"PL22A\" ;\n",
    "        geo:hasGeometry ?regionGeom .\n",
    "    ?regionGeom geo:asWKT ?regionWKT .\n",
    "\n",
    "    ?city a gn:Feature ;\n",
    "        gn:population ?population ;\n",
    "    \tgn:name ?cityName ;\n",
    "        geo:hasGeometry ?cityGeom .\n",
    "    ?cityGeom geo:asWKT ?cityWKT .\n",
    "\n",
    "    ?borderingRegion a skos:Concept ;\n",
    "        nutsdef:level ?level ;\n",
    "        geo:hasGeometry ?borderGeometry .\n",
    "    ?borderGeometry geo:asWKT ?borderWKT .\n",
    "\n",
    "    FILTER(geof:sfTouches(?regionWKT, ?borderWKT))\n",
    "    FILTER(geof:sfIntersects(?cityWKT, ?borderWKT))\n",
    "}\n",
    "ORDER BY DESC(?population)\n",
    "LIMIT 3\"\"\""
   ]
  },
  {
   "cell_type": "code",
   "execution_count": 33,
   "id": "fcad41e8-a366-428d-af90-b2dab0d09e65",
   "metadata": {},
   "outputs": [],
   "source": [
    "training_list.append([template.format(ontology_full_turtle, ex), fixed])"
   ]
  },
  {
   "cell_type": "code",
   "execution_count": 34,
   "id": "a4d260e6-fcb5-4c7c-86c9-f48a8f565c14",
   "metadata": {},
   "outputs": [
    {
     "name": "stdout",
     "output_type": "stream",
     "text": [
      "Testing current ontology:\n",
      "PREFIX fno: <https://w3id.org/function/ontology#> \n",
      "PREFIX geo: <http://www.opengis.net/ont/geosparql#> \n",
      "PREFIX gn: <https://www.geonames.org/ontology#> \n",
      "PREFIX nutsdef: <http://data.europa.eu/nuts/> \n",
      "PREFIX skos: <http://www.w3.org/2004/02/skos/core#> \n",
      "\n",
      "SELECT ?neighborRegion \n",
      "WHERE {\n",
      "  ?region a skos:Concept ;\n",
      "          nutsdef:level ?level .\n",
      "  ?neighborRegion a skos:Concept ;\n",
      "                  nutsdef:level ?level ;\n",
      "                  geo:hasGeometry ?geometryNeighbor .\n",
      "  ?region geo:hasGeometry ?geometryRegion .\n",
      "  FILTER(?region = <http://data.europa.eu/nuts/ITF1>)\n",
      "}\n"
     ]
    }
   ],
   "source": [
    "ex = \"Which regions are neighbors of the region ITF1 and share the same NUTS level?\"\n",
    "prompts.append(ex)\n",
    "print(run_tests(ontology_full_turtle, models=[\"gpt-4o-mini\"], templates=[template], prompts=[ex])[0])"
   ]
  },
  {
   "cell_type": "code",
   "execution_count": 35,
   "id": "7b2e82d4-04de-4dbf-a386-35b136fcfa65",
   "metadata": {},
   "outputs": [],
   "source": [
    "fixed = \"\"\"\n",
    "PREFIX geo: <http://www.opengis.net/ont/geosparql#>\n",
    "PREFIX geof: <http://www.opengis.net/def/function/geosparql/> \n",
    "PREFIX nutsdef: <http://data.europa.eu/nuts/>\n",
    "PREFIX skos: <http://www.w3.org/2004/02/skos/core#>\n",
    "\n",
    "SELECT ?neighborNotation\n",
    "WHERE {\n",
    "    ?region a skos:Concept ;\n",
    "    \tskos:notation \"ITC1\";\n",
    "    \tnutsdef:level ?level ;\n",
    "    \tgeo:hasGeometry ?regionGeom .\n",
    "    ?regionGeom geo:asWKT ?regionWKT .\n",
    "    ?neighborRegion a skos:Concept ;\n",
    "        nutsdef:level ?level ;\n",
    "        skos:notation ?neighborNotation ;\n",
    "    \tgeo:hasGeometry ?neighborGeom .\n",
    "    ?neighborGeom geo:asWKT ?neighborWKT .\n",
    "    \t\n",
    "    FILTER(geof:sfTouches(?regionWKT, ?neighborWKT))\n",
    "}\"\"\""
   ]
  },
  {
   "cell_type": "code",
   "execution_count": 36,
   "id": "acef0881-fc0e-4d21-a473-8df9604a0feb",
   "metadata": {},
   "outputs": [],
   "source": [
    "training_list.append([template.format(ontology_full_turtle, ex), fixed])"
   ]
  },
  {
   "cell_type": "code",
   "execution_count": 37,
   "id": "59470907-4d16-48ee-b96b-5f303625218c",
   "metadata": {},
   "outputs": [
    {
     "name": "stdout",
     "output_type": "stream",
     "text": [
      "Testing current ontology:\n",
      "PREFIX gn: <https://www.geonames.org/ontology#>\n",
      "PREFIX nutsdef: <http://data.europa.eu/nuts/>\n",
      "PREFIX geo: <http://www.opengis.net/ont/geosparql#>\n",
      "PREFIX rdfs: <http://www.w3.org/2000/01/rdf-schema#>\n",
      "PREFIX xsd: <http://www.w3.org/2001/XMLSchema#>\n",
      "\n",
      "SELECT ?city ?population\n",
      "WHERE {\n",
      "  ?city a gn:Feature ;\n",
      "        gn:population ?population ;\n",
      "        gn:geonamesID ?geonameID .\n",
      "  ?city geo:hasGeometry ?geometry .\n",
      "  ?geometry geo:asWKT ?wkt .\n",
      "  ?city rdfs:label ?label .\n",
      "  FILTER(CONTAINS(STR(?label), \"RO32\"))\n",
      "}\n",
      "ORDER BY DESC(?population)\n",
      "LIMIT 3\n"
     ]
    }
   ],
   "source": [
    "ex = \"What are the three biggest cities in the NUTS region RO32?\"\n",
    "prompts.append(ex)\n",
    "print(run_tests(ontology_full_turtle, models=[\"gpt-4o-mini\"], templates=[template], prompts=[ex])[0])"
   ]
  },
  {
   "cell_type": "code",
   "execution_count": 38,
   "id": "03f4ace5-60b8-4936-afff-8dac087b6aa4",
   "metadata": {},
   "outputs": [],
   "source": [
    "fixed = \"\"\"\n",
    "PREFIX gn: <https://www.geonames.org/ontology#>\n",
    "PREFIX geo: <http://www.opengis.net/ont/geosparql#>\n",
    "PREFIX skos: <http://www.w3.org/2004/02/skos/core#>\n",
    "PREFIX geof: <http://www.opengis.net/def/function/geosparql/>\n",
    "\n",
    "SELECT ?cityName ?population \n",
    "WHERE {\n",
    "    ?city a gn:Feature ;\n",
    "        gn:population ?population ;\n",
    "    \tgn:name ?cityName ;\n",
    "        geo:hasGeometry ?cityGeom .\n",
    "    ?cityGeom geo:asWKT ?cityWKT .\n",
    "    ?region a skos:Concept ;\n",
    "    \tskos:notation \"RO32\" ;\n",
    "        geo:hasGeometry ?regionGeom .\n",
    "    ?regionGeom geo:asWKT ?regionWKT .\n",
    "    \n",
    "\tFILTER(geof:sfWithin(?cityWKT, ?regionWKT))\n",
    "}\n",
    "ORDER BY DESC(?population)\n",
    "LIMIT 3\"\"\""
   ]
  },
  {
   "cell_type": "code",
   "execution_count": 39,
   "id": "2b6e6415-1d30-4e20-8f3e-c2ad7a2fbd74",
   "metadata": {},
   "outputs": [],
   "source": [
    "training_list.append([template.format(ontology_full_turtle, ex), fixed])"
   ]
  },
  {
   "cell_type": "code",
   "execution_count": 40,
   "id": "c43af4de-978a-4bbb-9918-c0d58e07d89d",
   "metadata": {},
   "outputs": [
    {
     "name": "stdout",
     "output_type": "stream",
     "text": [
      "Testing current ontology:\n",
      "PREFIX nutsdef: <http://data.europa.eu/nuts/>\n",
      "PREFIX geo: <http://www.opengis.net/ont/geosparql#>\n",
      "PREFIX gn: <https://www.geonames.org/ontology#>\n",
      "PREFIX skos: <http://www.w3.org/2004/02/skos/core#>\n",
      "PREFIX rdfs: <http://www.w3.org/2000/01/rdf-schema#>\n",
      "\n",
      "SELECT (COUNT(?neighbor) AS ?count) WHERE {\n",
      "  ?nutsRegion a skos:Concept ;\n",
      "              nutsdef:level ?level ;\n",
      "              rdfs:label \"EL30\" .\n",
      "  ?neighbor a skos:Concept ;\n",
      "            nutsdef:level ?level ;\n",
      "            ?s ?nutsRegion .\n",
      "}\n"
     ]
    }
   ],
   "source": [
    "ex = \"How many neighbors of the same level does the NUTS region EL30 have?\"\n",
    "prompts.append(ex)\n",
    "print(run_tests(ontology_full_turtle, models=[\"gpt-4o-mini\"], templates=[template], prompts=[ex])[0])"
   ]
  },
  {
   "cell_type": "code",
   "execution_count": 41,
   "id": "b2cacd73-0f83-485b-8a10-56840406eab2",
   "metadata": {},
   "outputs": [],
   "source": [
    "fixed = \"\"\"\n",
    "PREFIX geo: <http://www.opengis.net/ont/geosparql#> \n",
    "PREFIX geof: <http://www.opengis.net/def/function/geosparql/> \n",
    "PREFIX nutsdef: <http://data.europa.eu/nuts/> \n",
    "PREFIX skos: <http://www.w3.org/2004/02/skos/core#> \n",
    "\n",
    "SELECT (COUNT(?neighbor) AS ?count) WHERE {\n",
    "    ?region a skos:Concept ;\n",
    "        nutsdef:level ?level ;\n",
    "        skos:notation \"EL30\" ;\n",
    "    \tgeo:hasGeometry ?regionGeom .\n",
    "    ?regionGeom geo:asWKT ?regionWKT .\n",
    "    ?neighbor a skos:Concept ;\n",
    "        nutsdef:level ?level ;\n",
    "        skos:notation ?neighborNotation ;\n",
    "    \tgeo:hasGeometry ?neighborGeom .\n",
    "    ?neighborGeom geo:asWKT ?neighborWKT .\n",
    "    \t\n",
    "    FILTER(geof:sfTouches(?neighborWKT, ?regionWKT))\n",
    "}\"\"\""
   ]
  },
  {
   "cell_type": "code",
   "execution_count": 42,
   "id": "7630046d-3e27-423b-b2eb-01fa60e68c5d",
   "metadata": {},
   "outputs": [],
   "source": [
    "training_list.append([template.format(ontology_full_turtle, ex), fixed])"
   ]
  },
  {
   "cell_type": "code",
   "execution_count": 43,
   "id": "0e320793-b6d6-4c71-96dd-64cbff3bdaed",
   "metadata": {},
   "outputs": [
    {
     "name": "stdout",
     "output_type": "stream",
     "text": [
      "Testing current ontology:\n",
      "PREFIX fno: <https://w3id.org/function/ontology#> \n",
      "PREFIX geo: <http://www.opengis.net/ont/geosparql#> \n",
      "PREFIX geof: <http://www.opengis.net/def/function/geosparql/> \n",
      "PREFIX gn: <https://www.geonames.org/ontology#> \n",
      "PREFIX nutsdef: <http://data.europa.eu/nuts/> \n",
      "PREFIX owl: <http://www.w3.org/2002/07/owl#> \n",
      "PREFIX rdfs: <http://www.w3.org/2000/01/rdf-schema#> \n",
      "PREFIX skos: <http://www.w3.org/2004/02/skos/core#> \n",
      "PREFIX xsd: <http://www.w3.org/2001/XMLSchema#> \n",
      "\n",
      "SELECT (COUNT(?city) AS ?cityCount) \n",
      "WHERE {\n",
      "  ?city a gn:Feature ;\n",
      "        gn:population ?population ;\n",
      "        geo:hasGeometry ?cityGeometry .\n",
      "  ?region a skos:Concept ;\n",
      "          nutsdef:level \"1\" ;\n",
      "          geo:hasGeometry ?regionGeometry ;\n",
      "          skos:notation \"SK01\" .\n",
      "  FILTER(?population > 50000)\n",
      "  FILTER(geof:sfWithin(?cityGeometry, geof:buffer(?regionGeometry, 20000)))\n",
      "}\n"
     ]
    }
   ],
   "source": [
    "ex = \"How many cities with more than 50000 inhabitants are within 20 km of the NUTS region SK01?\"\n",
    "prompts.append(ex)\n",
    "print(run_tests(ontology_full_turtle, models=[\"gpt-4o-mini\"], templates=[template], prompts=[ex])[0])"
   ]
  },
  {
   "cell_type": "code",
   "execution_count": 44,
   "id": "48ca3aab-2e98-4c14-9bda-133d116c4824",
   "metadata": {},
   "outputs": [],
   "source": [
    "fixed = \"\"\"\n",
    "PREFIX geo: <http://www.opengis.net/ont/geosparql#> \n",
    "PREFIX geof: <http://www.opengis.net/def/function/geosparql/> \n",
    "PREFIX gn: <https://www.geonames.org/ontology#> \n",
    "PREFIX skos: <http://www.w3.org/2004/02/skos/core#>\n",
    "\n",
    "SELECT  (COUNT(?city) AS ?cityCount) \n",
    "WHERE { \n",
    "    ?city a gn:Feature ; \n",
    "        gn:population ?population ; \n",
    "        geo:hasGeometry ?cityGeometry .\n",
    "    ?cityGeometry geo:asWKT ?cityWKT .\n",
    "\n",
    "    ?region a skos:Concept ; \n",
    "        skos:notation \"SK01\" ; \n",
    "        geo:hasGeometry ?regionGeom . \n",
    "   \t?regionGeom geo:asWKT ?regionWKT .\n",
    "    \n",
    "    FILTER(?population > 50000) \n",
    "    FILTER(geof:sfWithin(?cityWKT, geof:buffer(?regionWKT, 20000))) \n",
    "}\"\"\""
   ]
  },
  {
   "cell_type": "code",
   "execution_count": 45,
   "id": "a16aad93-2f2f-45b7-af5f-211722c2aa28",
   "metadata": {},
   "outputs": [],
   "source": [
    "training_list.append([template.format(ontology_full_turtle, ex), fixed])"
   ]
  },
  {
   "cell_type": "code",
   "execution_count": 46,
   "id": "5f68ba3b-b476-40f1-940c-061ad4039b9b",
   "metadata": {},
   "outputs": [
    {
     "name": "stdout",
     "output_type": "stream",
     "text": [
      "Testing current ontology:\n",
      "PREFIX fno: <https://w3id.org/function/ontology#> \n",
      "PREFIX geo: <http://www.opengis.net/ont/geosparql#> \n",
      "PREFIX geof: <http://www.opengis.net/def/function/geosparql/> \n",
      "PREFIX gn: <https://www.geonames.org/ontology#> \n",
      "PREFIX nutsdef: <http://data.europa.eu/nuts/> \n",
      "PREFIX owl: <http://www.w3.org/2002/07/owl#> \n",
      "PREFIX rdfs: <http://www.w3.org/2000/01/rdf-schema#> \n",
      "PREFIX skos: <http://www.w3.org/2004/02/skos/core#> \n",
      "PREFIX xsd: <http://www.w3.org/2001/XMLSchema#> \n",
      "\n",
      "SELECT ?region \n",
      "WHERE { \n",
      "  ?city a gn:Feature ; \n",
      "        gn:name \"Rostock\" ; \n",
      "        geo:hasGeometry ?geometry . \n",
      "  ?region a skos:Concept ; \n",
      "          nutsdef:level \"3\" ; \n",
      "          geo:hasGeometry ?regionGeometry . \n",
      "  FILTER(geof:sfContains(?regionGeometry, ?geometry)) \n",
      "} \n"
     ]
    }
   ],
   "source": [
    "ex = \"In which NUTS level 3 region is the city of Rostock located?\"\n",
    "prompts.append(ex)\n",
    "print(run_tests(ontology_full_turtle, models=[\"gpt-4o-mini\"], templates=[template], prompts=[ex])[0])"
   ]
  },
  {
   "cell_type": "code",
   "execution_count": 47,
   "id": "b2120fca-a0f3-483b-9ee5-c872cf5fcad7",
   "metadata": {},
   "outputs": [],
   "source": [
    "fixed = \"\"\"\n",
    "PREFIX geo: <http://www.opengis.net/ont/geosparql#> \n",
    "PREFIX gn: <https://www.geonames.org/ontology#> \n",
    "PREFIX nutsdef: <http://data.europa.eu/nuts/> \n",
    "PREFIX skos: <http://www.w3.org/2004/02/skos/core#>\n",
    "PREFIX geof: <http://www.opengis.net/def/function/geosparql/> \n",
    "\n",
    "SELECT ?region \n",
    "WHERE { \n",
    "    ?city gn:name \"Rostock\" . \n",
    "    ?city geo:hasGeometry ?cityGeom .\n",
    "    ?cityGeom geo:asWKT ?cityWKT .\n",
    "    \n",
    "    ?region nutsdef:level \"3\" . \n",
    "    ?region geo:hasGeometry ?regionGeom .\n",
    "    ?regionGeom geo:asWKT ?regionWKT .\n",
    "    \n",
    "    FILTER(geof:sfContains(?regionWKT, ?cityWKT))\n",
    "}\"\"\""
   ]
  },
  {
   "cell_type": "code",
   "execution_count": 48,
   "id": "813d1a08-dc80-4a03-8008-2a1ae727dcd5",
   "metadata": {},
   "outputs": [],
   "source": [
    "training_list.append([template.format(ontology_full_turtle, ex), fixed])"
   ]
  },
  {
   "cell_type": "code",
   "execution_count": 49,
   "id": "efe62207-1746-4160-8a6d-48edd0c95e0d",
   "metadata": {},
   "outputs": [
    {
     "data": {
      "text/plain": [
       "['What are cities that are within 5 km of the NUTS region DE30?',\n",
       " 'What NUTS regions are neighbors of the NUTS region AT22 and have the same NUTS level?',\n",
       " 'Which NUTS region border the NUTS region FRK21 but are not inside the region?',\n",
       " 'Which cities with more then 20000 inhabitant are within a 20 km radius of Warsaw?',\n",
       " 'Which cities are 20 km or less from the NUTS region DED43 but not inside the region itself and have more than 40 thousand inhabitants?',\n",
       " 'What are the 5 biggest cities in the region MT00?',\n",
       " 'What the 3 biggest cities that are in a region bordering and with the same NUTS level as the region PL22A?',\n",
       " 'Which regions are neighbors of the region ITF1 and share the same NUTS level?',\n",
       " 'What are the three biggest cities in the NUTS region RO32?',\n",
       " 'How many neighbors of the same level does the NUTS region EL30 have?',\n",
       " 'How many cities with more than 50000 inhabitants are within 20 km of the NUTS region SK01?',\n",
       " 'In which NUTS level 3 region is the city of Rostock located?']"
      ]
     },
     "execution_count": 49,
     "metadata": {},
     "output_type": "execute_result"
    }
   ],
   "source": [
    "prompts"
   ]
  },
  {
   "cell_type": "markdown",
   "id": "f14c5f1b-695d-40b6-9492-2bf58779da8a",
   "metadata": {},
   "source": [
    "# Alternative formulations\n",
    "For each question we formulate 2 more alternate wordings that are semantically identical. In total there are then 36 question-answer pairs for fine-tuning. This is of course a pretty small fine-tuning dataset, however fine-tuning is not the main focus of the study."
   ]
  },
  {
   "cell_type": "code",
   "execution_count": 67,
   "id": "7b1940a1-6e5d-48b2-a4ed-9b1e333375b3",
   "metadata": {},
   "outputs": [],
   "source": [
    "idents = [\n",
    "    \"Which cities are 5 km or closer to the NUTS region DE30?\",\n",
    "    \"Which NUTS regions of the same level share a border with the NUTS region AT22?\",\n",
    "    \"What are the NUTS regions that are neighbors of the region FRK21?\",\n",
    "    \"What cities are a maximum of 20 km from Warsaw and have more than 20 thousand inhabitants?\",\n",
    "    \"Which cities are closer than 20 km from the NUTS region DED43, have at least 40 thousand inhabitants and are not inside the region itself?\",\n",
    "    \"The 5 largest cities by population inside the region MT00?\",\n",
    "    \"Give the 3 most populated cities that are within a NUTS region that borders and has the same level as the region PL22A?\",\n",
    "    \"What regions have the same NUTS level as the region ITF1 and share a border with it?\",\n",
    "    \"What are the three most populated cities in the NUTS region RO32?\",\n",
    "    \"How many regions exist that share the level of and a border with the NUTS region EL30?\",\n",
    "    \"The number of cities with more than 50 thousand people that are closer than 20 km to the NUTS region SK01?\",\n",
    "    \"Give the NUTS region (level 3) that contains Rostock.\"]\n",
    "\n",
    "idents2 = [\n",
    "    \"What cities are within 5 km of the NUTS region DE30?\",\n",
    "    \"Which NUTS regions at the same level are adjacent to the NUTS region AT22?\",\n",
    "    \"Which NUTS regions border the region FRK21 but are outside of it?\",\n",
    "    \"Which cities are within 20 km of Warsaw and have a population of more than 20,000?\",\n",
    "    \"What cities are less than 20 km from the NUTS region DED43, have a population of at least 40,000, and are not located within the region itself?\",\n",
    "    \"What are the 5 most populous cities within the region MT00?\",\n",
    "    \"List the 3 most populous cities within a NUTS region that borders and is at the same level as the region PL22A.\",\n",
    "    \"Which regions are at the same NUTS level as the region ITF1 and share a border with it?\",\n",
    "    \"Which are the three most populous cities in the NUTS region RO32?\",\n",
    "    \"How many regions are there that are at the same level and share a border with the NUTS region EL30?\",\n",
    "    \"What is the number of cities with more than 50,000 people that are within 20 km of the NUTS region SK01?\",\n",
    "    \"Identify the level 3 NUTS region with Rostock in it.\"]"
   ]
  },
  {
   "cell_type": "code",
   "execution_count": 69,
   "id": "4cec8f5b-970e-408d-986d-965a43cfa2a0",
   "metadata": {},
   "outputs": [],
   "source": [
    "answers = [x[1] for x in training_list]"
   ]
  },
  {
   "cell_type": "code",
   "execution_count": 71,
   "id": "133beddf-cd91-4bd1-aeea-2b9cc96169ad",
   "metadata": {},
   "outputs": [],
   "source": [
    "train = []\n",
    "train.extend(prompts[:7])\n",
    "train.extend(idents[:7])\n",
    "train.extend(idents2[:7])\n",
    "\n",
    "train = [template.format(ontology_full_turtle, x) for x in train]\n",
    "\n",
    "answers_train = answers[:7] * 3"
   ]
  },
  {
   "cell_type": "code",
   "execution_count": 73,
   "id": "898e4a9d-d681-4c0f-bacf-32efb30e741c",
   "metadata": {},
   "outputs": [],
   "source": [
    "codes = [\"DE30\", \"AT22\", \"FRK21\", \"DED43\", \"MT00\", \"PL22A\", \"ITF1\", \"RO32\", \"EL30\", \"SK01\"]\n",
    "cities = [\"Warsaw\", \"Rostock\"]"
   ]
  },
  {
   "cell_type": "code",
   "execution_count": 77,
   "id": "dde3e994-0d8a-4ca4-bf7b-341f218ee912",
   "metadata": {},
   "outputs": [],
   "source": [
    "def create_line(q, a):\n",
    "    line = {}\n",
    "    system = {\"role\": \"system\", \"content\": \"You are a helpful assistant that generates sparql queries based on a users question and a ontology schema\"}\n",
    "    user = {\"role\": \"user\", \"content\": q}\n",
    "    assistant = {\"role\": \"assistant\", \"content\": a}\n",
    "    line[\"messages\"] = [system, user, assistant]\n",
    "    return line\n",
    "    # print(line)"
   ]
  },
  {
   "cell_type": "markdown",
   "id": "5a4d960e-e59d-4df0-8c0d-2268e17e83d8",
   "metadata": {},
   "source": [
    "# Fine tuning with train-test-split"
   ]
  },
  {
   "cell_type": "code",
   "execution_count": 79,
   "id": "e1bb906a-99ce-4d6f-a1a9-2c236739f642",
   "metadata": {},
   "outputs": [
    {
     "name": "stdout",
     "output_type": "stream",
     "text": [
      "Writing new file\n"
     ]
    }
   ],
   "source": [
    "lines = []\n",
    "\n",
    "for question, answer in zip(train, answers_train):\n",
    "    line = create_line(question, answer)\n",
    "    lines.append(line)\n",
    "\n",
    "file_path = 'tuning/fine-tuning-file.jsonl'\n",
    "if not os.path.exists(file_path):\n",
    "    print(\"Writing new file\")\n",
    "    with open(file_path, 'w') as jsonl_file:\n",
    "        for line in lines:\n",
    "            jsonl_file.write(json.dumps(line) + '\\n')"
   ]
  },
  {
   "cell_type": "markdown",
   "id": "2be76dfb-ee2d-4ab8-92ac-416a27543ad3",
   "metadata": {},
   "source": [
    "# Fine Tuning\n",
    "Fine-tuning takes place on the OpenAI platform. The fine-tuning-file.jsonl file is uploaded and the gpt-4o-mini model is fine-tuned using standard parameters.\n",
    "\n",
    "After we can try to generate a few SPARQL queries from the questions above again. For that, the env-variable FT_MODEL has to be set to the model code that is availbale in the OpenAI platform\n",
    "\n",
    "Keep in mind that if these test are run again, the results might be different."
   ]
  },
  {
   "cell_type": "code",
   "execution_count": 82,
   "id": "c68f407c-e23a-4a69-906d-d93ed12b7650",
   "metadata": {},
   "outputs": [
    {
     "name": "stdout",
     "output_type": "stream",
     "text": [
      "Testing current ontology:\n",
      "What are the three biggest cities in the NUTS region RO32?\n"
     ]
    },
    {
     "data": {
      "text/html": [
       "<div>\n",
       "<style scoped>\n",
       "    .dataframe tbody tr th:only-of-type {\n",
       "        vertical-align: middle;\n",
       "    }\n",
       "\n",
       "    .dataframe tbody tr th {\n",
       "        vertical-align: top;\n",
       "    }\n",
       "\n",
       "    .dataframe thead th {\n",
       "        text-align: right;\n",
       "    }\n",
       "</style>\n",
       "<table border=\"1\" class=\"dataframe\">\n",
       "  <thead>\n",
       "    <tr style=\"text-align: right;\">\n",
       "      <th></th>\n",
       "      <th>cityName</th>\n",
       "      <th>population</th>\n",
       "    </tr>\n",
       "  </thead>\n",
       "  <tbody>\n",
       "    <tr>\n",
       "      <th>0</th>\n",
       "      <td>Bucharest</td>\n",
       "      <td>1877155</td>\n",
       "    </tr>\n",
       "    <tr>\n",
       "      <th>1</th>\n",
       "      <td>Voluntari</td>\n",
       "      <td>30323</td>\n",
       "    </tr>\n",
       "    <tr>\n",
       "      <th>2</th>\n",
       "      <td>Buftea</td>\n",
       "      <td>20691</td>\n",
       "    </tr>\n",
       "  </tbody>\n",
       "</table>\n",
       "</div>"
      ],
      "text/plain": [
       "    cityName  population\n",
       "0  Bucharest     1877155\n",
       "1  Voluntari       30323\n",
       "2     Buftea       20691"
      ]
     },
     "execution_count": 82,
     "metadata": {},
     "output_type": "execute_result"
    }
   ],
   "source": [
    "ex = prompts[8]\n",
    "gen = run_tests(ontology_full_turtle, models=[ft_model_name], templates=[template], prompts=[ex])[0]\n",
    "\n",
    "print(ex)\n",
    "sparql_select(gen, select_endpoint_url)"
   ]
  },
  {
   "cell_type": "markdown",
   "id": "d1715a17-8928-495b-b211-fe68da838d96",
   "metadata": {},
   "source": [
    "### -> Passed"
   ]
  },
  {
   "cell_type": "code",
   "execution_count": 84,
   "id": "37a303de",
   "metadata": {},
   "outputs": [
    {
     "name": "stdout",
     "output_type": "stream",
     "text": [
      "Testing current ontology:\n",
      "How many neighbors of the same level does the NUTS region EL30 have?\n"
     ]
    },
    {
     "data": {
      "text/html": [
       "<div>\n",
       "<style scoped>\n",
       "    .dataframe tbody tr th:only-of-type {\n",
       "        vertical-align: middle;\n",
       "    }\n",
       "\n",
       "    .dataframe tbody tr th {\n",
       "        vertical-align: top;\n",
       "    }\n",
       "\n",
       "    .dataframe thead th {\n",
       "        text-align: right;\n",
       "    }\n",
       "</style>\n",
       "<table border=\"1\" class=\"dataframe\">\n",
       "  <thead>\n",
       "    <tr style=\"text-align: right;\">\n",
       "      <th></th>\n",
       "      <th>neighborCount</th>\n",
       "    </tr>\n",
       "  </thead>\n",
       "  <tbody>\n",
       "    <tr>\n",
       "      <th>0</th>\n",
       "      <td>2</td>\n",
       "    </tr>\n",
       "  </tbody>\n",
       "</table>\n",
       "</div>"
      ],
      "text/plain": [
       "   neighborCount\n",
       "0              2"
      ]
     },
     "execution_count": 84,
     "metadata": {},
     "output_type": "execute_result"
    }
   ],
   "source": [
    "ex = prompts[9]\n",
    "gen = run_tests(ontology_full_turtle, models=[ft_model_name], templates=[template], prompts=[ex])[0]\n",
    "\n",
    "print(ex)\n",
    "sparql_select(gen, select_endpoint_url)"
   ]
  },
  {
   "cell_type": "markdown",
   "id": "5170d481-a752-4874-a95a-584e24b55792",
   "metadata": {},
   "source": [
    "### -> PASSED (2 is correct, EL65 & EL64)"
   ]
  },
  {
   "cell_type": "code",
   "execution_count": 86,
   "id": "759ff3e4-dedb-41e5-97e4-4e8f9c73bb1e",
   "metadata": {},
   "outputs": [
    {
     "name": "stdout",
     "output_type": "stream",
     "text": [
      "Testing current ontology:\n",
      "How many cities with more than 50000 inhabitants are within 20 km of the NUTS region SK01?\n"
     ]
    },
    {
     "data": {
      "text/html": [
       "<div>\n",
       "<style scoped>\n",
       "    .dataframe tbody tr th:only-of-type {\n",
       "        vertical-align: middle;\n",
       "    }\n",
       "\n",
       "    .dataframe tbody tr th {\n",
       "        vertical-align: top;\n",
       "    }\n",
       "\n",
       "    .dataframe thead th {\n",
       "        text-align: right;\n",
       "    }\n",
       "</style>\n",
       "<table border=\"1\" class=\"dataframe\">\n",
       "  <thead>\n",
       "    <tr style=\"text-align: right;\">\n",
       "      <th></th>\n",
       "      <th>cityCount</th>\n",
       "    </tr>\n",
       "  </thead>\n",
       "  <tbody>\n",
       "    <tr>\n",
       "      <th>0</th>\n",
       "      <td>2</td>\n",
       "    </tr>\n",
       "  </tbody>\n",
       "</table>\n",
       "</div>"
      ],
      "text/plain": [
       "   cityCount\n",
       "0          2"
      ]
     },
     "execution_count": 86,
     "metadata": {},
     "output_type": "execute_result"
    }
   ],
   "source": [
    "ex = prompts[10]\n",
    "gen = run_tests(ontology_full_turtle, models=[ft_model_name], templates=[template], prompts=[ex])[0]\n",
    "\n",
    "print(ex)\n",
    "sparql_select(gen, select_endpoint_url)"
   ]
  },
  {
   "cell_type": "markdown",
   "id": "8bdeca7d-d0a0-4376-bd19-fb093b028736",
   "metadata": {},
   "source": [
    "### -> PASSED (Bratislava & Trnava)"
   ]
  },
  {
   "cell_type": "code",
   "execution_count": 92,
   "id": "bb1ca6d5-1266-493a-8f50-57bd615de993",
   "metadata": {},
   "outputs": [
    {
     "name": "stdout",
     "output_type": "stream",
     "text": [
      "Testing current ontology:\n",
      "In which NUTS level 3 region is the city of Rostock located?\n"
     ]
    },
    {
     "data": {
      "text/html": [
       "<div>\n",
       "<style scoped>\n",
       "    .dataframe tbody tr th:only-of-type {\n",
       "        vertical-align: middle;\n",
       "    }\n",
       "\n",
       "    .dataframe tbody tr th {\n",
       "        vertical-align: top;\n",
       "    }\n",
       "\n",
       "    .dataframe thead th {\n",
       "        text-align: right;\n",
       "    }\n",
       "</style>\n",
       "<table border=\"1\" class=\"dataframe\">\n",
       "  <thead>\n",
       "    <tr style=\"text-align: right;\">\n",
       "      <th></th>\n",
       "      <th>regionNotation</th>\n",
       "    </tr>\n",
       "  </thead>\n",
       "  <tbody>\n",
       "    <tr>\n",
       "      <th>0</th>\n",
       "      <td>DE803</td>\n",
       "    </tr>\n",
       "  </tbody>\n",
       "</table>\n",
       "</div>"
      ],
      "text/plain": [
       "  regionNotation\n",
       "0          DE803"
      ]
     },
     "execution_count": 92,
     "metadata": {},
     "output_type": "execute_result"
    }
   ],
   "source": [
    "ex = prompts[11]\n",
    "gen = run_tests(ontology_full_turtle, models=[ft_model_name], templates=[template], prompts=[ex])[0]\n",
    "\n",
    "print(ex)\n",
    "sparql_select(gen, select_endpoint_url)"
   ]
  },
  {
   "cell_type": "markdown",
   "id": "6ce04af8-ac47-4c98-856e-7dea305d37dd",
   "metadata": {},
   "source": [
    "### -> PASSED (DE803 is the ocrrect region)"
   ]
  },
  {
   "cell_type": "markdown",
   "id": "dff3461e-f30f-4b71-b1fd-b029e3949afb",
   "metadata": {},
   "source": [
    "# Test 2 with idents\n",
    "Testing again with some of the other formulations"
   ]
  },
  {
   "cell_type": "code",
   "execution_count": 97,
   "id": "96509c64-3d71-4836-927e-93f53961b123",
   "metadata": {},
   "outputs": [
    {
     "name": "stdout",
     "output_type": "stream",
     "text": [
      "Testing current ontology:\n",
      "What are the three most populated cities in the NUTS region RO32?\n"
     ]
    },
    {
     "data": {
      "text/html": [
       "<div>\n",
       "<style scoped>\n",
       "    .dataframe tbody tr th:only-of-type {\n",
       "        vertical-align: middle;\n",
       "    }\n",
       "\n",
       "    .dataframe tbody tr th {\n",
       "        vertical-align: top;\n",
       "    }\n",
       "\n",
       "    .dataframe thead th {\n",
       "        text-align: right;\n",
       "    }\n",
       "</style>\n",
       "<table border=\"1\" class=\"dataframe\">\n",
       "  <thead>\n",
       "    <tr style=\"text-align: right;\">\n",
       "      <th></th>\n",
       "      <th>cityName</th>\n",
       "      <th>population</th>\n",
       "    </tr>\n",
       "  </thead>\n",
       "  <tbody>\n",
       "    <tr>\n",
       "      <th>0</th>\n",
       "      <td>Bucharest</td>\n",
       "      <td>1877155</td>\n",
       "    </tr>\n",
       "    <tr>\n",
       "      <th>1</th>\n",
       "      <td>Voluntari</td>\n",
       "      <td>30323</td>\n",
       "    </tr>\n",
       "    <tr>\n",
       "      <th>2</th>\n",
       "      <td>Buftea</td>\n",
       "      <td>20691</td>\n",
       "    </tr>\n",
       "  </tbody>\n",
       "</table>\n",
       "</div>"
      ],
      "text/plain": [
       "    cityName  population\n",
       "0  Bucharest     1877155\n",
       "1  Voluntari       30323\n",
       "2     Buftea       20691"
      ]
     },
     "execution_count": 97,
     "metadata": {},
     "output_type": "execute_result"
    }
   ],
   "source": [
    "ex = idents[8]\n",
    "gen = run_tests(ontology_full_turtle, models=[ft_model_name], templates=[template], prompts=[ex])[0]\n",
    "\n",
    "print(ex)\n",
    "sparql_select(gen, select_endpoint_url)"
   ]
  },
  {
   "cell_type": "markdown",
   "id": "c63c48d4-4b78-4d8f-99e4-c4da38e27991",
   "metadata": {},
   "source": [
    "### -> Passed"
   ]
  },
  {
   "cell_type": "code",
   "execution_count": 100,
   "id": "faa64607-a7fd-4c1c-adf9-5208eb07d870",
   "metadata": {},
   "outputs": [
    {
     "name": "stdout",
     "output_type": "stream",
     "text": [
      "Testing current ontology:\n",
      "How many regions exist that share the level of and a border with the NUTS region EL30?\n"
     ]
    },
    {
     "data": {
      "text/html": [
       "<div>\n",
       "<style scoped>\n",
       "    .dataframe tbody tr th:only-of-type {\n",
       "        vertical-align: middle;\n",
       "    }\n",
       "\n",
       "    .dataframe tbody tr th {\n",
       "        vertical-align: top;\n",
       "    }\n",
       "\n",
       "    .dataframe thead th {\n",
       "        text-align: right;\n",
       "    }\n",
       "</style>\n",
       "<table border=\"1\" class=\"dataframe\">\n",
       "  <thead>\n",
       "    <tr style=\"text-align: right;\">\n",
       "      <th></th>\n",
       "      <th>regionCount</th>\n",
       "    </tr>\n",
       "  </thead>\n",
       "  <tbody>\n",
       "    <tr>\n",
       "      <th>0</th>\n",
       "      <td>0</td>\n",
       "    </tr>\n",
       "  </tbody>\n",
       "</table>\n",
       "</div>"
      ],
      "text/plain": [
       "   regionCount\n",
       "0            0"
      ]
     },
     "execution_count": 100,
     "metadata": {},
     "output_type": "execute_result"
    }
   ],
   "source": [
    "ex = idents[9]\n",
    "gen = run_tests(ontology_full_turtle, models=[ft_model_name], templates=[template], prompts=[ex])[0]\n",
    "\n",
    "print(ex)\n",
    "sparql_select(gen, select_endpoint_url)"
   ]
  },
  {
   "cell_type": "markdown",
   "id": "d0bdefea-9935-44a2-85f9-906daf106a8d",
   "metadata": {},
   "source": [
    "### -> FAILED (Should be 2 neighbors)"
   ]
  },
  {
   "cell_type": "code",
   "execution_count": 102,
   "id": "edcf9fd8-dc05-41df-85d0-dd03706e7dc6",
   "metadata": {},
   "outputs": [
    {
     "name": "stdout",
     "output_type": "stream",
     "text": [
      "Testing current ontology:\n",
      "The number of cities with more than 50 thousand people that are closer than 20 km to the NUTS region SK01?\n"
     ]
    },
    {
     "data": {
      "text/html": [
       "<div>\n",
       "<style scoped>\n",
       "    .dataframe tbody tr th:only-of-type {\n",
       "        vertical-align: middle;\n",
       "    }\n",
       "\n",
       "    .dataframe tbody tr th {\n",
       "        vertical-align: top;\n",
       "    }\n",
       "\n",
       "    .dataframe thead th {\n",
       "        text-align: right;\n",
       "    }\n",
       "</style>\n",
       "<table border=\"1\" class=\"dataframe\">\n",
       "  <thead>\n",
       "    <tr style=\"text-align: right;\">\n",
       "      <th></th>\n",
       "      <th>cityCount</th>\n",
       "    </tr>\n",
       "  </thead>\n",
       "  <tbody>\n",
       "    <tr>\n",
       "      <th>0</th>\n",
       "      <td>2</td>\n",
       "    </tr>\n",
       "  </tbody>\n",
       "</table>\n",
       "</div>"
      ],
      "text/plain": [
       "   cityCount\n",
       "0          2"
      ]
     },
     "execution_count": 102,
     "metadata": {},
     "output_type": "execute_result"
    }
   ],
   "source": [
    "ex = idents[10]\n",
    "gen = run_tests(ontology_full_turtle, models=[ft_model_name], templates=[template], prompts=[ex])[0]\n",
    "\n",
    "print(ex)\n",
    "sparql_select(gen, select_endpoint_url)"
   ]
  },
  {
   "cell_type": "markdown",
   "id": "2a6ae686-869d-46e1-8c2c-22cb669d2ce6",
   "metadata": {},
   "source": [
    "### -> PASSED"
   ]
  },
  {
   "cell_type": "code",
   "execution_count": 104,
   "id": "22c32627-561f-4455-9427-37f8634445a1",
   "metadata": {},
   "outputs": [
    {
     "name": "stdout",
     "output_type": "stream",
     "text": [
      "Testing current ontology:\n",
      "Give the NUTS region (level 3) that contains Rostock.\n"
     ]
    },
    {
     "data": {
      "text/html": [
       "<div>\n",
       "<style scoped>\n",
       "    .dataframe tbody tr th:only-of-type {\n",
       "        vertical-align: middle;\n",
       "    }\n",
       "\n",
       "    .dataframe tbody tr th {\n",
       "        vertical-align: top;\n",
       "    }\n",
       "\n",
       "    .dataframe thead th {\n",
       "        text-align: right;\n",
       "    }\n",
       "</style>\n",
       "<table border=\"1\" class=\"dataframe\">\n",
       "  <thead>\n",
       "    <tr style=\"text-align: right;\">\n",
       "      <th></th>\n",
       "      <th>regionNotation</th>\n",
       "    </tr>\n",
       "  </thead>\n",
       "  <tbody>\n",
       "    <tr>\n",
       "      <th>0</th>\n",
       "      <td>DE803</td>\n",
       "    </tr>\n",
       "  </tbody>\n",
       "</table>\n",
       "</div>"
      ],
      "text/plain": [
       "  regionNotation\n",
       "0          DE803"
      ]
     },
     "execution_count": 104,
     "metadata": {},
     "output_type": "execute_result"
    }
   ],
   "source": [
    "ex = idents[11]\n",
    "gen = run_tests(ontology_full_turtle, models=[ft_model_name], templates=[template], prompts=[ex])[0]\n",
    "\n",
    "print(ex)\n",
    "sparql_select(gen, select_endpoint_url)"
   ]
  },
  {
   "cell_type": "markdown",
   "id": "cf8254b5-04e6-43ae-b4c8-938296722238",
   "metadata": {},
   "source": [
    "### -> PASSED"
   ]
  },
  {
   "cell_type": "markdown",
   "id": "6cf3fb06-fddc-434a-8013-6aafeb51ebac",
   "metadata": {},
   "source": [
    "# Takeaway\n",
    "Way more questions are able to be generated sucessfully as SPARQL queries. Here, questions from the training dataset are used as examples. In the actual study the results are analyzed more systematically. However, since these questions are quite similar to the questions in the study, overfitting is quite likely here."
   ]
  }
 ],
 "metadata": {
  "kernelspec": {
   "display_name": "Python 3 (ipykernel)",
   "language": "python",
   "name": "python3"
  },
  "language_info": {
   "codemirror_mode": {
    "name": "ipython",
    "version": 3
   },
   "file_extension": ".py",
   "mimetype": "text/x-python",
   "name": "python",
   "nbconvert_exporter": "python",
   "pygments_lexer": "ipython3",
   "version": "3.11.9"
  }
 },
 "nbformat": 4,
 "nbformat_minor": 5
}
