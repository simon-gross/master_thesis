{
 "cells": [
  {
   "cell_type": "markdown",
   "id": "31d8c0d3-8e99-45a0-971e-73ce3bef1fde",
   "metadata": {},
   "source": [
    "# A question and prompting dataset\n",
    "The dataset should contain questions that ask about the three defined spatial tasks. Neighborhood, direction and proximity. Based on the NUTS and Geonames datasets."
   ]
  },
  {
   "cell_type": "markdown",
   "id": "dd42ea94-65ce-42b8-bc85-6d89a354009c",
   "metadata": {},
   "source": [
    "### 1. Neighborhood and other topological relations\n",
    "True/False questions:\n",
    "- Is NUTS region X a neighbor of Y?\n",
    "- Is NUTS region X inside of Y?\n",
    "- Do NUTS regions X and Y lie in the same top-level NUTS region?\n",
    "- Are cities X and Y in the same NUTS level 2 region?\n",
    "\n",
    "Retrieval Questions:\n",
    "- What NUTS regions border the Region X on the same level?\n",
    "- What NUTS regions border the Region X?\n",
    "- What NUTS regions are within the Region X?\n",
    "- What cities with CONDITION are within the Region X?\n",
    "- What are all NUTS regions that contain city X?\n",
    "- What are second order neighbors of Region X?\n",
    "\n",
    "### 2. Directions\n",
    "True/False/Direct questions:\n",
    "- (Is the NUTS region X further north than  NUTS region Y)\n",
    "- Is NUTS region X west of NUTS region Y?\n",
    "- Is city X south of NUTS region Y?\n",
    "- Is city X southeast from city Y?\n",
    "\n",
    "Retrieval questions:\n",
    "- Region to region?\n",
    "- Region to city?\n",
    "- City to Region?\n",
    "- City to city?\n",
    "\n",
    "### 3. Proximity\n",
    "True/False/Direct questions:\n",
    "- Is city X within 10 km of region Y?\n",
    "- Is city X within 10 km of city Y?\n",
    "\n",
    "Retrieval Questions:\n",
    "- What cities with CONDITION are within 50 km of region X?\n",
    "- What regions are within 10 km of region X?\n",
    "- What cities with CONDITION are within 10 km of city X?\n",
    "- What cities are within 150 km of region X and Y?\n",
    "- What cities are within the bounding box of region X?\n",
    "- What is the largest city within 15 km of region X?\n",
    "\n",
    "### 4. Combinations\n",
    "- What are cities within 10 km to the west of region X?\n",
    "- What NUTS regions border the region X in the South?"
   ]
  },
  {
   "cell_type": "code",
   "execution_count": 3,
   "id": "6e76ed0d-f78d-472a-82e4-76fbd22275a0",
   "metadata": {},
   "outputs": [],
   "source": [
    "import re\n",
    "import pandas as pd\n",
    "from tqdm import tqdm\n",
    "tqdm.pandas()\n",
    "from rdflib import Graph\n",
    "from random import shuffle, sample, choice\n",
    "from functions.correct_queries import get_gt_queries\n",
    "from functions.general_functions import pickledump, pickleload"
   ]
  },
  {
   "cell_type": "markdown",
   "id": "19b440e1-d8c1-414e-b387-8d8ee3874436",
   "metadata": {},
   "source": [
    "# Set up the question catalogue with variables"
   ]
  },
  {
   "cell_type": "code",
   "execution_count": 5,
   "id": "f799f4e6-70b8-414c-ad04-df772c053c33",
   "metadata": {},
   "outputs": [],
   "source": [
    "all_questions = [\n",
    "    \n",
    "# simple topology\n",
    "    \"What are all the NUTS regions that contain the city CITY?\",\n",
    "    \"What NUTS regions are within the region CODE?\",\n",
    "    \n",
    "# Neighborhood \n",
    "    \"Is the NUTS region CODE bordering the region CODE?\",\n",
    "    \"What regions of the same level are neighbors of the NUTS region CODE?\",\n",
    "    \"What are the second order neighbors of the same NUTS level for the NUTS region CODE?\",\n",
    "\n",
    "# Directions (all combinations of city and region) BOOL\n",
    "    \"Is NUTS region CODE DIRECTION of NUTS region CODE?\",\n",
    "    \"Is the NUTS region CODE DIRECTION of the city of CITY?\",\n",
    "\n",
    "# Directions question\n",
    "    \"To which direction is CITY from CITY?\",\n",
    "    \"CITY is to which direction of NUTS region CODE?\",\n",
    "\n",
    "# Proximity\n",
    "    \"Is CITY within SMALLDISTANCE km of the NUTS region CODE?\",\n",
    "    \"What are all cities within SMALLDISTANCE km of CITY?\",\n",
    "    \"What are all cities CCONDITION and are less than BIGDISTANCE km from the NUTS region CODE?\",\n",
    "    \"What is the largest city that can be found within the bounding box of the NUTS region CODE?\",\n",
    "    \"What is the largest city within BIGDISTANCE km of the NUTS region CODE?\",\n",
    "\n",
    "# Combinations\n",
    "    \"What are cities within SMALLDISTANCE kilometers to the DIRECTION of the NUTS region CODE?\",\n",
    "    \"Which cities can be found not further than SMALLDISTANCE km to the DIRECTION of CITY?\",\n",
    "    \"What NUTS regions share a border with the region CODE in the DIRECTION on the same nuts level?\",\n",
    "    \"What is the closest city to the DIRECTION of the NUTS region CODE?\"\n",
    "]\n",
    "\n",
    "kind_of_question = [\"simple topology\"]*2 + [\"neighbors\"]*3 + [\"directions bool\"]*2 + [\"directions open\"]*2 + [\"proximity\"]*5 + [\"combinations\"]*4\n",
    "variables = [\"CODE\", \"CITY\", \"DIRECTION\", \"SMALLDISTANCE\", \"BIGDISTANCE\", \"CCONDITION\"]\n",
    "pattern = '|'.join(map(re.escape, variables))\n",
    "variables_in_question = [sorted(re.findall(pattern, question)) for question in all_questions]"
   ]
  },
  {
   "cell_type": "code",
   "execution_count": 6,
   "id": "a0da5bc4-693d-4ea9-a440-b237bd772786",
   "metadata": {},
   "outputs": [],
   "source": [
    "correct_graphdb_requests = get_gt_queries()"
   ]
  },
  {
   "cell_type": "markdown",
   "id": "04e02557-7604-45c6-a3b0-601f21b196d5",
   "metadata": {},
   "source": [
    "# Set up the dataframe and example tags\n",
    "The dataframe contains the same 18 questions with different example from regions from different NUTS levels, different minimum size requirements from cities or cardinal/intercardinal directions."
   ]
  },
  {
   "cell_type": "code",
   "execution_count": 8,
   "id": "c2ac2e89-db59-4b81-9381-ae64400389e3",
   "metadata": {},
   "outputs": [],
   "source": [
    "df_questions = pd.DataFrame([all_questions, kind_of_question, variables_in_question]).T\n",
    "df_questions.columns = [\"question_raw\", \"question_category\", \"variables\"]\n",
    "df_questions = pd.concat([df_questions], ignore_index=True)\n",
    "df_questions['gt_query_raw'] = correct_graphdb_requests"
   ]
  },
  {
   "cell_type": "code",
   "execution_count": 9,
   "id": "bbf2ab13-efc9-47c2-870a-9675487cf4e9",
   "metadata": {},
   "outputs": [],
   "source": [
    "directions = [\"north\", \"west\", \"east\", \"south\"]\n",
    "intercardinals = [\"northwest\", \"northeast\", \"southwest\", \"southeast\"]\n",
    "sdistances = [8] # 8 turned out to be a good number to cover all the differnt kinds of questions and use cases so here no variations were made in the end\n",
    "bdistances = range(200, 750, 50)\n",
    "\n",
    "# cconditions do not interfere with the conditions for city-random picking as there are no questions where both are asked\n",
    "cconditions = [\"that have more than 100 thousand inhabitants\", \"that have more than 150000 residents\", \"with more than a 120 k people\", \"that are bigger than 99,999\"]\n",
    "cconditions_code = [\"> 100000\", \"> 150000\", \"> 120000\", \"> 99999\"]\n",
    "\n",
    "# NUTS level 1, cities > 120000\n",
    "ex1 = [[1, 120000, choice(directions), choice(sdistances), choice(bdistances), choice(cconditions)] for _ in range(len(df_questions))]\n",
    "\n",
    "# NUTS level 2, cities > 50000\n",
    "ex2 = [[2, 50000, choice(directions), choice(sdistances), choice(bdistances), choice(cconditions)] for _ in range(len(df_questions))]\n",
    "\n",
    "# NUTS level 3, cities > 15000\n",
    "ex3 = [[3, 15000, choice(directions), choice(sdistances), choice(bdistances), choice(cconditions)] for _ in range(len(df_questions))]\n",
    "\n",
    "# Intercardinal, level2, cities > 50000\n",
    "ex4 = [[2, 50000, choice(intercardinals), choice(sdistances), choice(bdistances), choice(cconditions)] for _ in range(len(df_questions))]\n",
    "\n",
    "# No filters\n",
    "ex5 = [[None, None, choice(directions), choice(sdistances), choice(bdistances), choice(cconditions)] for _ in range(len(df_questions))]\n",
    "\n",
    "# No filters Intercardinal\n",
    "ex6 = [[None, None, choice(intercardinals), choice(sdistances), choice(bdistances), choice(cconditions)] for _ in range(len(df_questions))]\n",
    "\n",
    "exs = [ex1, ex2, ex3, ex4, ex5, ex6]"
   ]
  },
  {
   "cell_type": "code",
   "execution_count": 10,
   "id": "d8bc96e0-872f-4697-a278-b16c3fb6cb1c",
   "metadata": {},
   "outputs": [],
   "source": [
    "columns = [\"NUTS level\", \"min inhabitants city\", \"direction\", \"small_distance\", \"big_distance\", \"city_condition\"]\n",
    "\n",
    "ex_with_df = [pd.concat([df_questions, pd.DataFrame(ex, columns=columns)], axis=1) for ex in exs]\n",
    "\n",
    "all_examples = pd.concat(ex_with_df, ignore_index=True)\n",
    "all_examples[\"intercardinal\"] = [True if dirs in intercardinals else False for dirs in all_examples[\"direction\"]]\n",
    "\n",
    "pickledump(all_examples, \"data/examples_not_populated.pkl\")"
   ]
  },
  {
   "cell_type": "markdown",
   "id": "9e56bc2a-ce1a-4c50-bd5b-cc3280e9b7df",
   "metadata": {},
   "source": [
    "# Notes on experiment dataset:\n",
    "- compared codes are always on the same level.\n",
    "- compared codes are always closer than a certain threshold dependent on a specific level.\n",
    "- cities will be random or with a size filter.\n",
    "- When asking about CODE-CITY relations the city should not be too far away from the code, depending on the level."
   ]
  }
 ],
 "metadata": {
  "kernelspec": {
   "display_name": "Python 3 (ipykernel)",
   "language": "python",
   "name": "python3"
  },
  "language_info": {
   "codemirror_mode": {
    "name": "ipython",
    "version": 3
   },
   "file_extension": ".py",
   "mimetype": "text/x-python",
   "name": "python",
   "nbconvert_exporter": "python",
   "pygments_lexer": "ipython3",
   "version": "3.11.9"
  }
 },
 "nbformat": 4,
 "nbformat_minor": 5
}
